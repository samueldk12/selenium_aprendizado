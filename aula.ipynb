{
 "cells": [
  {
   "cell_type": "code",
   "execution_count": null,
   "metadata": {},
   "outputs": [],
   "source": [
    "from selenium import webdriver\n",
    "from IPython.display import HTML"
   ]
  },
  {
   "cell_type": "code",
   "execution_count": 19,
   "metadata": {},
   "outputs": [],
   "source": [
    "driver = webdriver.Chrome()"
   ]
  },
  {
   "cell_type": "code",
   "execution_count": 21,
   "metadata": {},
   "outputs": [],
   "source": [
    "driver.get('https://curso-web-scraping.pages.dev/#/exemplo/1')"
   ]
  },
  {
   "cell_type": "code",
   "execution_count": 23,
   "metadata": {},
   "outputs": [],
   "source": [
    "page = driver.page_source"
   ]
  },
  {
   "cell_type": "code",
   "execution_count": 25,
   "metadata": {},
   "outputs": [],
   "source": [
    "from selenium.webdriver.common.by import By"
   ]
  },
  {
   "cell_type": "code",
   "execution_count": 32,
   "metadata": {},
   "outputs": [
    {
     "name": "stdout",
     "output_type": "stream",
     "text": [
      "\n",
      "    nome='Vitor Batista',\n",
      "    profissao='Produto Implementation Engenheiro',\n",
      "    signo='Câncer',\n",
      "    genero='Masculino'\n",
      "\n"
     ]
    }
   ],
   "source": [
    "nome = driver.find_element(By.ID, 'user').get_property('value')\n",
    "profissao = driver.find_element(By.ID, 'role').get_attribute('value')\n",
    "signo = driver.find_element(By.ID, 'zodiac').get_attribute('value')\n",
    "genero = driver.find_element(By.ID, 'gender').get_attribute('value')\n",
    "\n",
    "print(f'''\n",
    "    {nome=},\n",
    "    {profissao=},\n",
    "    {signo=},\n",
    "    {genero=}\n",
    "''')"
   ]
  },
  {
   "cell_type": "code",
   "execution_count": null,
   "metadata": {},
   "outputs": [
    {
     "name": "stdout",
     "output_type": "stream",
     "text": [
      "Vitor Batista\n",
      "Produto Implementation Engenheiro\n",
      "Câncer\n",
      "Masculino\n"
     ]
    }
   ],
   "source": [
    "campos = driver.find_elements(By.TAG_NAME, 'input')\n",
    "\n",
    "for campo in campos:\n",
    "    valor = campo.get_property('value')\n",
    "    print(valor)\n"
   ]
  },
  {
   "cell_type": "code",
   "execution_count": 39,
   "metadata": {},
   "outputs": [
    {
     "name": "stdout",
     "output_type": "stream",
     "text": [
      "Instagram\n",
      "Facebook\n",
      "Github\n",
      "YouTube\n",
      "Telegram\n"
     ]
    }
   ],
   "source": [
    "redes_sociais = driver.find_elements(By.TAG_NAME, 'span')\n",
    "\n",
    "for rede in redes_sociais[-5:]:\n",
    "    valor = rede.text\n",
    "    print(valor)\n"
   ]
  },
  {
   "cell_type": "code",
   "execution_count": 40,
   "metadata": {},
   "outputs": [
    {
     "name": "stdout",
     "output_type": "stream",
     "text": [
      "Instagram\n",
      "Facebook\n",
      "Github\n",
      "YouTube\n",
      "Telegram\n"
     ]
    }
   ],
   "source": [
    "redes_sociais = driver.find_element(By.ID,'social').find_elements(By.TAG_NAME, 'span')\n",
    "for rede in redes_sociais:\n",
    "    valor = rede.text\n",
    "    print(valor)"
   ]
  },
  {
   "cell_type": "code",
   "execution_count": 45,
   "metadata": {},
   "outputs": [],
   "source": [
    "instagram = driver.find_element(By.LINK_TEXT,'Instagram')\n",
    "instagram_e_telegram = driver.find_elements(By.PARTIAL_LINK_TEXT,'gram')"
   ]
  },
  {
   "cell_type": "code",
   "execution_count": 50,
   "metadata": {},
   "outputs": [
    {
     "name": "stdout",
     "output_type": "stream",
     "text": [
      "Instagram\n",
      "Telegram\n"
     ]
    }
   ],
   "source": [
    "for rede in instagram_e_telegram:\n",
    "    print(rede.text)"
   ]
  },
  {
   "cell_type": "code",
   "execution_count": 49,
   "metadata": {},
   "outputs": [
    {
     "name": "stdout",
     "output_type": "stream",
     "text": [
      "Instagram\n",
      "Facebook\n",
      "Github\n",
      "YouTube\n",
      "Telegram\n"
     ]
    }
   ],
   "source": [
    "links = driver.find_element(By.ID,'social').find_elements(By.TAG_NAME, 'a')\n",
    "for link in links:\n",
    "    print(link.text)"
   ]
  },
  {
   "cell_type": "code",
   "execution_count": 55,
   "metadata": {},
   "outputs": [
    {
     "name": "stdout",
     "output_type": "stream",
     "text": [
      "Vitor Batista\n",
      "Produto Implementation Engenheiro\n",
      "Câncer\n",
      "Masculino\n"
     ]
    }
   ],
   "source": [
    "inputs = driver.find_elements(By.CLASS_NAME,'styled-input')\n",
    "\n",
    "for input in inputs:\n",
    "    print(input.get_attribute('value'))"
   ]
  },
  {
   "cell_type": "code",
   "execution_count": null,
   "metadata": {},
   "outputs": [
    {
     "name": "stdout",
     "output_type": "stream",
     "text": [
      "Câncer\n",
      "Masculino\n"
     ]
    }
   ],
   "source": [
    "#separação entre duas classes é pelo .\n",
    "inputs = driver.find_elements(By.CLASS_NAME,'styled-input.optional-info')\n",
    "\n",
    "for input in inputs:\n",
    "    print(input.get_attribute('value'))"
   ]
  },
  {
   "cell_type": "code",
   "execution_count": null,
   "metadata": {},
   "outputs": [],
   "source": []
  }
 ],
 "metadata": {
  "kernelspec": {
   "display_name": "venv",
   "language": "python",
   "name": "python3"
  },
  "language_info": {
   "codemirror_mode": {
    "name": "ipython",
    "version": 3
   },
   "file_extension": ".py",
   "mimetype": "text/x-python",
   "name": "python",
   "nbconvert_exporter": "python",
   "pygments_lexer": "ipython3",
   "version": "3.10.11"
  }
 },
 "nbformat": 4,
 "nbformat_minor": 2
}
