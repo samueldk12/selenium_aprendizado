{
 "cells": [
  {
   "cell_type": "code",
   "execution_count": 49,
   "metadata": {},
   "outputs": [],
   "source": [
    "from selenium import webdriver\n",
    "from selenium.webdriver.common.by import By\n",
    "from selenium.webdriver.support.ui import Select\n",
    "import json\n",
    "from io import StringIO"
   ]
  },
  {
   "cell_type": "code",
   "execution_count": 57,
   "metadata": {},
   "outputs": [],
   "source": [
    "driver = webdriver.Chrome()"
   ]
  },
  {
   "cell_type": "code",
   "execution_count": 58,
   "metadata": {},
   "outputs": [],
   "source": [
    "driver.get('https://curso-web-scraping.pages.dev/#/desafio/1')"
   ]
  },
  {
   "cell_type": "code",
   "execution_count": 59,
   "metadata": {},
   "outputs": [],
   "source": [
    "with open('desafio_1.json') as json_data:\n",
    "    dados_json = json.load(json_data)"
   ]
  },
  {
   "cell_type": "code",
   "execution_count": null,
   "metadata": {},
   "outputs": [],
   "source": [
    "for dados in dados_json:\n",
    "    email_field =  driver.find_element(By.NAME,'email')\n",
    "    email_field.clear()\n",
    "    email_field.send_keys(dados.get('email'))\n",
    "\n",
    "    senha_field =  driver.find_element(By.NAME,'senha')\n",
    "    senha_field.clear()\n",
    "    senha_field.send_keys(dados.get('senha'))\n",
    "\n",
    "    datas = ['dia','mes','ano']\n",
    "    dia_mes_ano = dados.get('data-de-nascimento').split('-')[::-1]\n",
    "    for index in range(len(datas)):\n",
    "        data_field = driver.find_element(By.NAME,datas[index])\n",
    "        select_field = Select(data_field)\n",
    "        select_field.select_by_visible_text(str(int(dia_mes_ano[index])))\n",
    "\n",
    "    receber_email_field =  driver.find_element(By.XPATH,'//*[@id=\"airplane-mode\"]')\n",
    "    if dados.get('newsletter') and receber_email_field.get_attribute('data-state') != 'checked':\n",
    "        receber_email_field.click()\n",
    "    if not dados.get('newsletter') and receber_email_field.get_attribute('data-state') == 'checked':\n",
    "        receber_email_field.click()\n",
    "    \n",
    "    email_field.submit()\n"
   ]
  },
  {
   "cell_type": "code",
   "execution_count": null,
   "metadata": {},
   "outputs": [],
   "source": []
  }
 ],
 "metadata": {
  "kernelspec": {
   "display_name": "venv",
   "language": "python",
   "name": "python3"
  },
  "language_info": {
   "codemirror_mode": {
    "name": "ipython",
    "version": 3
   },
   "file_extension": ".py",
   "mimetype": "text/x-python",
   "name": "python",
   "nbconvert_exporter": "python",
   "pygments_lexer": "ipython3",
   "version": "3.10.11"
  }
 },
 "nbformat": 4,
 "nbformat_minor": 2
}
