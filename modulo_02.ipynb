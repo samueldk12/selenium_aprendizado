{
 "cells": [
  {
   "cell_type": "code",
   "execution_count": 22,
   "metadata": {},
   "outputs": [
    {
     "name": "stdout",
     "output_type": "stream",
     "text": [
      "Collecting requests\n",
      "  Downloading requests-2.32.3-py3-none-any.whl.metadata (4.6 kB)\n",
      "Collecting charset-normalizer<4,>=2 (from requests)\n",
      "  Downloading charset_normalizer-3.4.1-cp310-cp310-win_amd64.whl.metadata (36 kB)\n",
      "Requirement already satisfied: idna<4,>=2.5 in c:\\users\\samue\\estudos\\udemy\\selenium_aprendizado\\venv\\lib\\site-packages (from requests) (3.10)\n",
      "Requirement already satisfied: urllib3<3,>=1.21.1 in c:\\users\\samue\\estudos\\udemy\\selenium_aprendizado\\venv\\lib\\site-packages (from requests) (2.3.0)\n",
      "Requirement already satisfied: certifi>=2017.4.17 in c:\\users\\samue\\estudos\\udemy\\selenium_aprendizado\\venv\\lib\\site-packages (from requests) (2025.1.31)\n",
      "Downloading requests-2.32.3-py3-none-any.whl (64 kB)\n",
      "Downloading charset_normalizer-3.4.1-cp310-cp310-win_amd64.whl (102 kB)\n",
      "Installing collected packages: charset-normalizer, requests\n",
      "Successfully installed charset-normalizer-3.4.1 requests-2.32.3\n"
     ]
    }
   ],
   "source": [
    "!pip install requests"
   ]
  },
  {
   "cell_type": "code",
   "execution_count": 1,
   "metadata": {},
   "outputs": [],
   "source": [
    "from selenium import webdriver\n",
    "from selenium.webdriver.common.by import By\n",
    "from selenium.webdriver.support.ui import Select\n",
    "from selenium.webdriver.support.wait import WebDriverWait\n",
    "from selenium.webdriver.support import expected_conditions as EC\n",
    "import requests\n",
    "import os\n",
    "import json\n",
    "from io import StringIO"
   ]
  },
  {
   "cell_type": "code",
   "execution_count": 2,
   "metadata": {},
   "outputs": [],
   "source": [
    "driver = webdriver.Chrome()"
   ]
  },
  {
   "cell_type": "code",
   "execution_count": 3,
   "metadata": {},
   "outputs": [],
   "source": [
    "driver.get(\"https://curso-web-scraping.pages.dev/#/exemplo/4\")"
   ]
  },
  {
   "cell_type": "code",
   "execution_count": 4,
   "metadata": {},
   "outputs": [
    {
     "ename": "NoSuchElementException",
     "evalue": "Message: no such element: Unable to locate element: {\"method\":\"css selector\",\"selector\":\"[id=\"vantagens\"]\"}\n  (Session info: chrome=134.0.6998.89); For documentation on this error, please visit: https://www.selenium.dev/documentation/webdriver/troubleshooting/errors#no-such-element-exception\nStacktrace:\n\tGetHandleVerifier [0x00007FF7C911FE45+26629]\n\t(No symbol) [0x00007FF7C9086010]\n\t(No symbol) [0x00007FF7C8F1931A]\n\t(No symbol) [0x00007FF7C8F6F8E7]\n\t(No symbol) [0x00007FF7C8F6FB1C]\n\t(No symbol) [0x00007FF7C8FC34A7]\n\t(No symbol) [0x00007FF7C8F97AEF]\n\t(No symbol) [0x00007FF7C8FC0169]\n\t(No symbol) [0x00007FF7C8F97883]\n\t(No symbol) [0x00007FF7C8F60550]\n\t(No symbol) [0x00007FF7C8F61803]\n\tGetHandleVerifier [0x00007FF7C94772BD+3529853]\n\tGetHandleVerifier [0x00007FF7C948DA22+3621858]\n\tGetHandleVerifier [0x00007FF7C94824D3+3575443]\n\tGetHandleVerifier [0x00007FF7C91EB77A+860474]\n\t(No symbol) [0x00007FF7C909088F]\n\t(No symbol) [0x00007FF7C908CBC4]\n\t(No symbol) [0x00007FF7C908CD66]\n\t(No symbol) [0x00007FF7C907C2C9]\n\tBaseThreadInitThunk [0x00007FFD9B47E8D7+23]\n\tRtlUserThreadStart [0x00007FFD9C6FBF6C+44]\n",
     "output_type": "error",
     "traceback": [
      "\u001b[1;31m---------------------------------------------------------------------------\u001b[0m",
      "\u001b[1;31mNoSuchElementException\u001b[0m                    Traceback (most recent call last)",
      "Cell \u001b[1;32mIn[4], line 2\u001b[0m\n\u001b[0;32m      1\u001b[0m driver\u001b[38;5;241m.\u001b[39mrefresh()\n\u001b[1;32m----> 2\u001b[0m \u001b[43mdriver\u001b[49m\u001b[38;5;241;43m.\u001b[39;49m\u001b[43mfind_element\u001b[49m\u001b[43m(\u001b[49m\u001b[43mBy\u001b[49m\u001b[38;5;241;43m.\u001b[39;49m\u001b[43mID\u001b[49m\u001b[43m,\u001b[49m\u001b[43m \u001b[49m\u001b[38;5;124;43m'\u001b[39;49m\u001b[38;5;124;43mvantagens\u001b[39;49m\u001b[38;5;124;43m'\u001b[39;49m\u001b[43m)\u001b[49m\n",
      "File \u001b[1;32mc:\\Users\\samue\\estudos\\udemy\\selenium_aprendizado\\venv\\lib\\site-packages\\selenium\\webdriver\\remote\\webdriver.py:898\u001b[0m, in \u001b[0;36mWebDriver.find_element\u001b[1;34m(self, by, value)\u001b[0m\n\u001b[0;32m    895\u001b[0m         \u001b[38;5;28;01mraise\u001b[39;00m NoSuchElementException(\u001b[38;5;124mf\u001b[39m\u001b[38;5;124m\"\u001b[39m\u001b[38;5;124mCannot locate relative element with: \u001b[39m\u001b[38;5;132;01m{\u001b[39;00mby\u001b[38;5;241m.\u001b[39mroot\u001b[38;5;132;01m}\u001b[39;00m\u001b[38;5;124m\"\u001b[39m)\n\u001b[0;32m    896\u001b[0m     \u001b[38;5;28;01mreturn\u001b[39;00m elements[\u001b[38;5;241m0\u001b[39m]\n\u001b[1;32m--> 898\u001b[0m \u001b[38;5;28;01mreturn\u001b[39;00m \u001b[38;5;28;43mself\u001b[39;49m\u001b[38;5;241;43m.\u001b[39;49m\u001b[43mexecute\u001b[49m\u001b[43m(\u001b[49m\u001b[43mCommand\u001b[49m\u001b[38;5;241;43m.\u001b[39;49m\u001b[43mFIND_ELEMENT\u001b[49m\u001b[43m,\u001b[49m\u001b[43m \u001b[49m\u001b[43m{\u001b[49m\u001b[38;5;124;43m\"\u001b[39;49m\u001b[38;5;124;43musing\u001b[39;49m\u001b[38;5;124;43m\"\u001b[39;49m\u001b[43m:\u001b[49m\u001b[43m \u001b[49m\u001b[43mby\u001b[49m\u001b[43m,\u001b[49m\u001b[43m \u001b[49m\u001b[38;5;124;43m\"\u001b[39;49m\u001b[38;5;124;43mvalue\u001b[39;49m\u001b[38;5;124;43m\"\u001b[39;49m\u001b[43m:\u001b[49m\u001b[43m \u001b[49m\u001b[43mvalue\u001b[49m\u001b[43m}\u001b[49m\u001b[43m)\u001b[49m[\u001b[38;5;124m\"\u001b[39m\u001b[38;5;124mvalue\u001b[39m\u001b[38;5;124m\"\u001b[39m]\n",
      "File \u001b[1;32mc:\\Users\\samue\\estudos\\udemy\\selenium_aprendizado\\venv\\lib\\site-packages\\selenium\\webdriver\\remote\\webdriver.py:429\u001b[0m, in \u001b[0;36mWebDriver.execute\u001b[1;34m(self, driver_command, params)\u001b[0m\n\u001b[0;32m    427\u001b[0m response \u001b[38;5;241m=\u001b[39m \u001b[38;5;28mself\u001b[39m\u001b[38;5;241m.\u001b[39mcommand_executor\u001b[38;5;241m.\u001b[39mexecute(driver_command, params)\n\u001b[0;32m    428\u001b[0m \u001b[38;5;28;01mif\u001b[39;00m response:\n\u001b[1;32m--> 429\u001b[0m     \u001b[38;5;28;43mself\u001b[39;49m\u001b[38;5;241;43m.\u001b[39;49m\u001b[43merror_handler\u001b[49m\u001b[38;5;241;43m.\u001b[39;49m\u001b[43mcheck_response\u001b[49m\u001b[43m(\u001b[49m\u001b[43mresponse\u001b[49m\u001b[43m)\u001b[49m\n\u001b[0;32m    430\u001b[0m     response[\u001b[38;5;124m\"\u001b[39m\u001b[38;5;124mvalue\u001b[39m\u001b[38;5;124m\"\u001b[39m] \u001b[38;5;241m=\u001b[39m \u001b[38;5;28mself\u001b[39m\u001b[38;5;241m.\u001b[39m_unwrap_value(response\u001b[38;5;241m.\u001b[39mget(\u001b[38;5;124m\"\u001b[39m\u001b[38;5;124mvalue\u001b[39m\u001b[38;5;124m\"\u001b[39m, \u001b[38;5;28;01mNone\u001b[39;00m))\n\u001b[0;32m    431\u001b[0m     \u001b[38;5;28;01mreturn\u001b[39;00m response\n",
      "File \u001b[1;32mc:\\Users\\samue\\estudos\\udemy\\selenium_aprendizado\\venv\\lib\\site-packages\\selenium\\webdriver\\remote\\errorhandler.py:232\u001b[0m, in \u001b[0;36mErrorHandler.check_response\u001b[1;34m(self, response)\u001b[0m\n\u001b[0;32m    230\u001b[0m         alert_text \u001b[38;5;241m=\u001b[39m value[\u001b[38;5;124m\"\u001b[39m\u001b[38;5;124malert\u001b[39m\u001b[38;5;124m\"\u001b[39m]\u001b[38;5;241m.\u001b[39mget(\u001b[38;5;124m\"\u001b[39m\u001b[38;5;124mtext\u001b[39m\u001b[38;5;124m\"\u001b[39m)\n\u001b[0;32m    231\u001b[0m     \u001b[38;5;28;01mraise\u001b[39;00m exception_class(message, screen, stacktrace, alert_text)  \u001b[38;5;66;03m# type: ignore[call-arg]  # mypy is not smart enough here\u001b[39;00m\n\u001b[1;32m--> 232\u001b[0m \u001b[38;5;28;01mraise\u001b[39;00m exception_class(message, screen, stacktrace)\n",
      "\u001b[1;31mNoSuchElementException\u001b[0m: Message: no such element: Unable to locate element: {\"method\":\"css selector\",\"selector\":\"[id=\"vantagens\"]\"}\n  (Session info: chrome=134.0.6998.89); For documentation on this error, please visit: https://www.selenium.dev/documentation/webdriver/troubleshooting/errors#no-such-element-exception\nStacktrace:\n\tGetHandleVerifier [0x00007FF7C911FE45+26629]\n\t(No symbol) [0x00007FF7C9086010]\n\t(No symbol) [0x00007FF7C8F1931A]\n\t(No symbol) [0x00007FF7C8F6F8E7]\n\t(No symbol) [0x00007FF7C8F6FB1C]\n\t(No symbol) [0x00007FF7C8FC34A7]\n\t(No symbol) [0x00007FF7C8F97AEF]\n\t(No symbol) [0x00007FF7C8FC0169]\n\t(No symbol) [0x00007FF7C8F97883]\n\t(No symbol) [0x00007FF7C8F60550]\n\t(No symbol) [0x00007FF7C8F61803]\n\tGetHandleVerifier [0x00007FF7C94772BD+3529853]\n\tGetHandleVerifier [0x00007FF7C948DA22+3621858]\n\tGetHandleVerifier [0x00007FF7C94824D3+3575443]\n\tGetHandleVerifier [0x00007FF7C91EB77A+860474]\n\t(No symbol) [0x00007FF7C909088F]\n\t(No symbol) [0x00007FF7C908CBC4]\n\t(No symbol) [0x00007FF7C908CD66]\n\t(No symbol) [0x00007FF7C907C2C9]\n\tBaseThreadInitThunk [0x00007FFD9B47E8D7+23]\n\tRtlUserThreadStart [0x00007FFD9C6FBF6C+44]\n"
     ]
    }
   ],
   "source": [
    "driver.refresh()\n",
    "driver.find_element(By.ID, 'vantagens')"
   ]
  },
  {
   "cell_type": "code",
   "execution_count": null,
   "metadata": {},
   "outputs": [
    {
     "data": {
      "text/plain": [
       "<selenium.webdriver.remote.webelement.WebElement (session=\"a4ca87bda054d6ed55572d7bb76dd2af\", element=\"f.F983D962AD4C7D40B68968B3E4BB9A16.d.F58672609F3FE031BB67577FBAF9AA5F.e.157\")>"
      ]
     },
     "execution_count": 22,
     "metadata": {},
     "output_type": "execute_result"
    }
   ],
   "source": [
    "driver.refresh()\n",
    "wait = WebDriverWait(driver, timeout=4, poll_frequency=2)\n",
    "wait.until(EC.presence_of_element_located(locator=(By.ID,'vantagens')))"
   ]
  },
  {
   "cell_type": "code",
   "execution_count": null,
   "metadata": {},
   "outputs": [
    {
     "ename": "NoSuchElementException",
     "evalue": "Message: no such element: Unable to locate element: {\"method\":\"css selector\",\"selector\":\"[id=\"vantagens\"]\"}\n  (Session info: chrome=134.0.6998.35); For documentation on this error, please visit: https://www.selenium.dev/documentation/webdriver/troubleshooting/errors#no-such-element-exception\nStacktrace:\n\tGetHandleVerifier [0x00007FF62CF1DF85+26693]\n\t(No symbol) [0x00007FF62CE7EAD0]\n\t(No symbol) [0x00007FF62CD091CA]\n\t(No symbol) [0x00007FF62CD5F747]\n\t(No symbol) [0x00007FF62CD5F97C]\n\t(No symbol) [0x00007FF62CDB33C7]\n\t(No symbol) [0x00007FF62CD8792F]\n\t(No symbol) [0x00007FF62CDB00B8]\n\t(No symbol) [0x00007FF62CD876C3]\n\t(No symbol) [0x00007FF62CD50490]\n\t(No symbol) [0x00007FF62CD51743]\n\tGetHandleVerifier [0x00007FF62D27436D+3525677]\n\tGetHandleVerifier [0x00007FF62D287F3B+3606523]\n\tGetHandleVerifier [0x00007FF62D27CEE3+3561379]\n\tGetHandleVerifier [0x00007FF62CFE7C0A+853194]\n\t(No symbol) [0x00007FF62CE8990F]\n\t(No symbol) [0x00007FF62CE85674]\n\t(No symbol) [0x00007FF62CE85816]\n\t(No symbol) [0x00007FF62CE74D89]\n\tBaseThreadInitThunk [0x00007FFBF93CE8D7+23]\n\tRtlUserThreadStart [0x00007FFBF977BF6C+44]\n",
     "output_type": "error",
     "traceback": [
      "\u001b[1;31m---------------------------------------------------------------------------\u001b[0m",
      "\u001b[1;31mNoSuchElementException\u001b[0m                    Traceback (most recent call last)",
      "Cell \u001b[1;32mIn[32], line 3\u001b[0m\n\u001b[0;32m      1\u001b[0m driver\u001b[38;5;241m.\u001b[39mimplicitly_wait(\u001b[38;5;241m5\u001b[39m)\n\u001b[0;32m      2\u001b[0m driver\u001b[38;5;241m.\u001b[39mrefresh()\n\u001b[1;32m----> 3\u001b[0m \u001b[43mdriver\u001b[49m\u001b[38;5;241;43m.\u001b[39;49m\u001b[43mfind_element\u001b[49m\u001b[43m(\u001b[49m\u001b[43mBy\u001b[49m\u001b[38;5;241;43m.\u001b[39;49m\u001b[43mID\u001b[49m\u001b[43m,\u001b[49m\u001b[43m \u001b[49m\u001b[38;5;124;43m'\u001b[39;49m\u001b[38;5;124;43mvantagens\u001b[39;49m\u001b[38;5;124;43m'\u001b[39;49m\u001b[43m)\u001b[49m\n",
      "File \u001b[1;32mc:\\Users\\samue\\estudos\\udemy\\selenium_aprendizado\\venv\\lib\\site-packages\\selenium\\webdriver\\remote\\webdriver.py:898\u001b[0m, in \u001b[0;36mWebDriver.find_element\u001b[1;34m(self, by, value)\u001b[0m\n\u001b[0;32m    895\u001b[0m         \u001b[38;5;28;01mraise\u001b[39;00m NoSuchElementException(\u001b[38;5;124mf\u001b[39m\u001b[38;5;124m\"\u001b[39m\u001b[38;5;124mCannot locate relative element with: \u001b[39m\u001b[38;5;132;01m{\u001b[39;00mby\u001b[38;5;241m.\u001b[39mroot\u001b[38;5;132;01m}\u001b[39;00m\u001b[38;5;124m\"\u001b[39m)\n\u001b[0;32m    896\u001b[0m     \u001b[38;5;28;01mreturn\u001b[39;00m elements[\u001b[38;5;241m0\u001b[39m]\n\u001b[1;32m--> 898\u001b[0m \u001b[38;5;28;01mreturn\u001b[39;00m \u001b[38;5;28;43mself\u001b[39;49m\u001b[38;5;241;43m.\u001b[39;49m\u001b[43mexecute\u001b[49m\u001b[43m(\u001b[49m\u001b[43mCommand\u001b[49m\u001b[38;5;241;43m.\u001b[39;49m\u001b[43mFIND_ELEMENT\u001b[49m\u001b[43m,\u001b[49m\u001b[43m \u001b[49m\u001b[43m{\u001b[49m\u001b[38;5;124;43m\"\u001b[39;49m\u001b[38;5;124;43musing\u001b[39;49m\u001b[38;5;124;43m\"\u001b[39;49m\u001b[43m:\u001b[49m\u001b[43m \u001b[49m\u001b[43mby\u001b[49m\u001b[43m,\u001b[49m\u001b[43m \u001b[49m\u001b[38;5;124;43m\"\u001b[39;49m\u001b[38;5;124;43mvalue\u001b[39;49m\u001b[38;5;124;43m\"\u001b[39;49m\u001b[43m:\u001b[49m\u001b[43m \u001b[49m\u001b[43mvalue\u001b[49m\u001b[43m}\u001b[49m\u001b[43m)\u001b[49m[\u001b[38;5;124m\"\u001b[39m\u001b[38;5;124mvalue\u001b[39m\u001b[38;5;124m\"\u001b[39m]\n",
      "File \u001b[1;32mc:\\Users\\samue\\estudos\\udemy\\selenium_aprendizado\\venv\\lib\\site-packages\\selenium\\webdriver\\remote\\webdriver.py:429\u001b[0m, in \u001b[0;36mWebDriver.execute\u001b[1;34m(self, driver_command, params)\u001b[0m\n\u001b[0;32m    427\u001b[0m response \u001b[38;5;241m=\u001b[39m \u001b[38;5;28mself\u001b[39m\u001b[38;5;241m.\u001b[39mcommand_executor\u001b[38;5;241m.\u001b[39mexecute(driver_command, params)\n\u001b[0;32m    428\u001b[0m \u001b[38;5;28;01mif\u001b[39;00m response:\n\u001b[1;32m--> 429\u001b[0m     \u001b[38;5;28;43mself\u001b[39;49m\u001b[38;5;241;43m.\u001b[39;49m\u001b[43merror_handler\u001b[49m\u001b[38;5;241;43m.\u001b[39;49m\u001b[43mcheck_response\u001b[49m\u001b[43m(\u001b[49m\u001b[43mresponse\u001b[49m\u001b[43m)\u001b[49m\n\u001b[0;32m    430\u001b[0m     response[\u001b[38;5;124m\"\u001b[39m\u001b[38;5;124mvalue\u001b[39m\u001b[38;5;124m\"\u001b[39m] \u001b[38;5;241m=\u001b[39m \u001b[38;5;28mself\u001b[39m\u001b[38;5;241m.\u001b[39m_unwrap_value(response\u001b[38;5;241m.\u001b[39mget(\u001b[38;5;124m\"\u001b[39m\u001b[38;5;124mvalue\u001b[39m\u001b[38;5;124m\"\u001b[39m, \u001b[38;5;28;01mNone\u001b[39;00m))\n\u001b[0;32m    431\u001b[0m     \u001b[38;5;28;01mreturn\u001b[39;00m response\n",
      "File \u001b[1;32mc:\\Users\\samue\\estudos\\udemy\\selenium_aprendizado\\venv\\lib\\site-packages\\selenium\\webdriver\\remote\\errorhandler.py:232\u001b[0m, in \u001b[0;36mErrorHandler.check_response\u001b[1;34m(self, response)\u001b[0m\n\u001b[0;32m    230\u001b[0m         alert_text \u001b[38;5;241m=\u001b[39m value[\u001b[38;5;124m\"\u001b[39m\u001b[38;5;124malert\u001b[39m\u001b[38;5;124m\"\u001b[39m]\u001b[38;5;241m.\u001b[39mget(\u001b[38;5;124m\"\u001b[39m\u001b[38;5;124mtext\u001b[39m\u001b[38;5;124m\"\u001b[39m)\n\u001b[0;32m    231\u001b[0m     \u001b[38;5;28;01mraise\u001b[39;00m exception_class(message, screen, stacktrace, alert_text)  \u001b[38;5;66;03m# type: ignore[call-arg]  # mypy is not smart enough here\u001b[39;00m\n\u001b[1;32m--> 232\u001b[0m \u001b[38;5;28;01mraise\u001b[39;00m exception_class(message, screen, stacktrace)\n",
      "\u001b[1;31mNoSuchElementException\u001b[0m: Message: no such element: Unable to locate element: {\"method\":\"css selector\",\"selector\":\"[id=\"vantagens\"]\"}\n  (Session info: chrome=134.0.6998.35); For documentation on this error, please visit: https://www.selenium.dev/documentation/webdriver/troubleshooting/errors#no-such-element-exception\nStacktrace:\n\tGetHandleVerifier [0x00007FF62CF1DF85+26693]\n\t(No symbol) [0x00007FF62CE7EAD0]\n\t(No symbol) [0x00007FF62CD091CA]\n\t(No symbol) [0x00007FF62CD5F747]\n\t(No symbol) [0x00007FF62CD5F97C]\n\t(No symbol) [0x00007FF62CDB33C7]\n\t(No symbol) [0x00007FF62CD8792F]\n\t(No symbol) [0x00007FF62CDB00B8]\n\t(No symbol) [0x00007FF62CD876C3]\n\t(No symbol) [0x00007FF62CD50490]\n\t(No symbol) [0x00007FF62CD51743]\n\tGetHandleVerifier [0x00007FF62D27436D+3525677]\n\tGetHandleVerifier [0x00007FF62D287F3B+3606523]\n\tGetHandleVerifier [0x00007FF62D27CEE3+3561379]\n\tGetHandleVerifier [0x00007FF62CFE7C0A+853194]\n\t(No symbol) [0x00007FF62CE8990F]\n\t(No symbol) [0x00007FF62CE85674]\n\t(No symbol) [0x00007FF62CE85816]\n\t(No symbol) [0x00007FF62CE74D89]\n\tBaseThreadInitThunk [0x00007FFBF93CE8D7+23]\n\tRtlUserThreadStart [0x00007FFBF977BF6C+44]\n"
     ]
    }
   ],
   "source": [
    "driver.implicitly_wait(5)\n",
    "driver.refresh()\n",
    "driver.find_element(By.ID, 'vantagens')"
   ]
  },
  {
   "cell_type": "code",
   "execution_count": null,
   "metadata": {},
   "outputs": [
    {
     "name": "stdout",
     "output_type": "stream",
     "text": [
      "Não encontrado elemento ID vantagens\n"
     ]
    }
   ],
   "source": [
    "driver.refresh()\n",
    "wait = WebDriverWait(driver, timeout=2)\n",
    "try:\n",
    "    wait.until(\n",
    "        method = EC.presence_of_element_located(locator=(By.ID,'vantagens')),\n",
    "        message=\"Não encontrado elemento ID vantagens\"\n",
    "    )\n",
    "except Exception as e:\n",
    "    print(str(e.msg))"
   ]
  },
  {
   "cell_type": "code",
   "execution_count": null,
   "metadata": {},
   "outputs": [],
   "source": [
    "driver.get(\"https://curso-web-scraping.pages.dev/#/exemplo/5\")"
   ]
  },
  {
   "cell_type": "code",
   "execution_count": null,
   "metadata": {},
   "outputs": [
    {
     "data": {
      "text/plain": [
       "True"
      ]
     },
     "execution_count": 8,
     "metadata": {},
     "output_type": "execute_result"
    }
   ],
   "source": [
    "driver.refresh()\n",
    "wait = WebDriverWait(driver, timeout=30, poll_frequency=1)\n",
    "wait.until(EC.title_is(title='Programador'))"
   ]
  },
  {
   "cell_type": "code",
   "execution_count": null,
   "metadata": {},
   "outputs": [
    {
     "data": {
      "text/plain": [
       "True"
      ]
     },
     "execution_count": 10,
     "metadata": {},
     "output_type": "execute_result"
    }
   ],
   "source": [
    "driver.refresh()\n",
    "wait = WebDriverWait(driver, timeout=30, poll_frequency=1)\n",
    "wait.until(EC.title_contains(title='Aventureiro'))"
   ]
  },
  {
   "cell_type": "code",
   "execution_count": null,
   "metadata": {},
   "outputs": [
    {
     "data": {
      "text/plain": [
       "<selenium.webdriver.remote.webelement.WebElement (session=\"a994234785eeb3ccbff938223b273e51\", element=\"f.F9BA3F2DE63FE1E2A1573FEEEDE5E723.d.D997196F6333D2D020092F74E53896B1.e.100\")>"
      ]
     },
     "execution_count": 14,
     "metadata": {},
     "output_type": "execute_result"
    }
   ],
   "source": [
    "driver.refresh()\n",
    "wait = WebDriverWait(driver, timeout=30, poll_frequency=1)\n",
    "wait.until(EC.presence_of_element_located(locator=(By.ID, 'star1')))"
   ]
  },
  {
   "cell_type": "code",
   "execution_count": null,
   "metadata": {},
   "outputs": [
    {
     "data": {
      "text/plain": [
       "[<selenium.webdriver.remote.webelement.WebElement (session=\"a994234785eeb3ccbff938223b273e51\", element=\"f.F9BA3F2DE63FE1E2A1573FEEEDE5E723.d.E88D0617B7DCF5550AB778613B02A171.e.109\")>]"
      ]
     },
     "execution_count": 15,
     "metadata": {},
     "output_type": "execute_result"
    }
   ],
   "source": [
    "driver.refresh()\n",
    "wait = WebDriverWait(driver, timeout=30, poll_frequency=1)\n",
    "wait.until(EC.presence_of_all_elements_located(locator=(By.NAME, 'stars')))"
   ]
  },
  {
   "cell_type": "code",
   "execution_count": null,
   "metadata": {},
   "outputs": [
    {
     "data": {
      "text/plain": [
       "[<selenium.webdriver.remote.webelement.WebElement (session=\"a994234785eeb3ccbff938223b273e51\", element=\"f.F9BA3F2DE63FE1E2A1573FEEEDE5E723.d.8CC85F4544C322D418563E942E638C4E.e.112\")>]"
      ]
     },
     "execution_count": 16,
     "metadata": {},
     "output_type": "execute_result"
    }
   ],
   "source": [
    "driver.refresh()\n",
    "wait = WebDriverWait(driver, timeout=30, poll_frequency=1)\n",
    "wait.until(EC.visibility_of_any_elements_located(locator=(By.ID, 'star3')))"
   ]
  },
  {
   "cell_type": "code",
   "execution_count": null,
   "metadata": {},
   "outputs": [
    {
     "data": {
      "text/plain": [
       "<selenium.webdriver.remote.webelement.WebElement (session=\"a994234785eeb3ccbff938223b273e51\", element=\"f.F9BA3F2DE63FE1E2A1573FEEEDE5E723.d.26A840F7C5E3CFF4E64C505E7B3E80CB.e.121\")>"
      ]
     },
     "execution_count": 17,
     "metadata": {},
     "output_type": "execute_result"
    }
   ],
   "source": [
    "driver.refresh()\n",
    "wait = WebDriverWait(driver, timeout=30, poll_frequency=1)\n",
    "wait.until(EC.element_to_be_clickable(mark=(By.ID, 'telegram')))"
   ]
  },
  {
   "cell_type": "code",
   "execution_count": null,
   "metadata": {},
   "outputs": [
    {
     "data": {
      "text/plain": [
       "True"
      ]
     },
     "execution_count": 18,
     "metadata": {},
     "output_type": "execute_result"
    }
   ],
   "source": [
    "driver.refresh()\n",
    "wait = WebDriverWait(driver, timeout=30, poll_frequency=1)\n",
    "star = driver.find_element(By.ID, 'star4')\n",
    "wait.until(EC.staleness_of(element=star))"
   ]
  },
  {
   "cell_type": "code",
   "execution_count": 5,
   "metadata": {},
   "outputs": [
    {
     "ename": "TimeoutException",
     "evalue": "Message: \nStacktrace:\n\tGetHandleVerifier [0x00007FF7C911FE45+26629]\n\t(No symbol) [0x00007FF7C9086010]\n\t(No symbol) [0x00007FF7C8F1931A]\n\t(No symbol) [0x00007FF7C8F6F8E7]\n\t(No symbol) [0x00007FF7C8F6FB1C]\n\t(No symbol) [0x00007FF7C8FC34A7]\n\t(No symbol) [0x00007FF7C8F97AEF]\n\t(No symbol) [0x00007FF7C8FC0169]\n\t(No symbol) [0x00007FF7C8F97883]\n\t(No symbol) [0x00007FF7C8F60550]\n\t(No symbol) [0x00007FF7C8F61803]\n\tGetHandleVerifier [0x00007FF7C94772BD+3529853]\n\tGetHandleVerifier [0x00007FF7C948DA22+3621858]\n\tGetHandleVerifier [0x00007FF7C94824D3+3575443]\n\tGetHandleVerifier [0x00007FF7C91EB77A+860474]\n\t(No symbol) [0x00007FF7C909088F]\n\t(No symbol) [0x00007FF7C908CBC4]\n\t(No symbol) [0x00007FF7C908CD66]\n\t(No symbol) [0x00007FF7C907C2C9]\n\tBaseThreadInitThunk [0x00007FFD9B47E8D7+23]\n\tRtlUserThreadStart [0x00007FFD9C6FBF6C+44]\n",
     "output_type": "error",
     "traceback": [
      "\u001b[1;31m---------------------------------------------------------------------------\u001b[0m",
      "\u001b[1;31mTimeoutException\u001b[0m                          Traceback (most recent call last)",
      "Cell \u001b[1;32mIn[5], line 3\u001b[0m\n\u001b[0;32m      1\u001b[0m driver\u001b[38;5;241m.\u001b[39mrefresh()\n\u001b[0;32m      2\u001b[0m wait \u001b[38;5;241m=\u001b[39m WebDriverWait(driver, timeout\u001b[38;5;241m=\u001b[39m\u001b[38;5;241m30\u001b[39m, poll_frequency\u001b[38;5;241m=\u001b[39m\u001b[38;5;241m1\u001b[39m)\n\u001b[1;32m----> 3\u001b[0m \u001b[43mwait\u001b[49m\u001b[38;5;241;43m.\u001b[39;49m\u001b[43muntil\u001b[49m\u001b[43m(\u001b[49m\u001b[43mEC\u001b[49m\u001b[38;5;241;43m.\u001b[39;49m\u001b[43melement_attribute_to_include\u001b[49m\u001b[43m(\u001b[49m\u001b[43mlocator\u001b[49m\u001b[38;5;241;43m=\u001b[39;49m\u001b[43m(\u001b[49m\u001b[43mBy\u001b[49m\u001b[38;5;241;43m.\u001b[39;49m\u001b[43mID\u001b[49m\u001b[43m,\u001b[49m\u001b[43m \u001b[49m\u001b[38;5;124;43m'\u001b[39;49m\u001b[38;5;124;43mstar5\u001b[39;49m\u001b[38;5;124;43m'\u001b[39;49m\u001b[43m)\u001b[49m\u001b[43m,\u001b[49m\u001b[43m \u001b[49m\u001b[43mattribute_\u001b[49m\u001b[38;5;241;43m=\u001b[39;49m\u001b[38;5;124;43m'\u001b[39;49m\u001b[38;5;124;43mname\u001b[39;49m\u001b[38;5;124;43m'\u001b[39;49m\u001b[43m)\u001b[49m\u001b[43m)\u001b[49m\n",
      "File \u001b[1;32mc:\\Users\\samue\\estudos\\udemy\\selenium_aprendizado\\venv\\lib\\site-packages\\selenium\\webdriver\\support\\wait.py:146\u001b[0m, in \u001b[0;36mWebDriverWait.until\u001b[1;34m(self, method, message)\u001b[0m\n\u001b[0;32m    144\u001b[0m         \u001b[38;5;28;01mbreak\u001b[39;00m\n\u001b[0;32m    145\u001b[0m     time\u001b[38;5;241m.\u001b[39msleep(\u001b[38;5;28mself\u001b[39m\u001b[38;5;241m.\u001b[39m_poll)\n\u001b[1;32m--> 146\u001b[0m \u001b[38;5;28;01mraise\u001b[39;00m TimeoutException(message, screen, stacktrace)\n",
      "\u001b[1;31mTimeoutException\u001b[0m: Message: \nStacktrace:\n\tGetHandleVerifier [0x00007FF7C911FE45+26629]\n\t(No symbol) [0x00007FF7C9086010]\n\t(No symbol) [0x00007FF7C8F1931A]\n\t(No symbol) [0x00007FF7C8F6F8E7]\n\t(No symbol) [0x00007FF7C8F6FB1C]\n\t(No symbol) [0x00007FF7C8FC34A7]\n\t(No symbol) [0x00007FF7C8F97AEF]\n\t(No symbol) [0x00007FF7C8FC0169]\n\t(No symbol) [0x00007FF7C8F97883]\n\t(No symbol) [0x00007FF7C8F60550]\n\t(No symbol) [0x00007FF7C8F61803]\n\tGetHandleVerifier [0x00007FF7C94772BD+3529853]\n\tGetHandleVerifier [0x00007FF7C948DA22+3621858]\n\tGetHandleVerifier [0x00007FF7C94824D3+3575443]\n\tGetHandleVerifier [0x00007FF7C91EB77A+860474]\n\t(No symbol) [0x00007FF7C909088F]\n\t(No symbol) [0x00007FF7C908CBC4]\n\t(No symbol) [0x00007FF7C908CD66]\n\t(No symbol) [0x00007FF7C907C2C9]\n\tBaseThreadInitThunk [0x00007FFD9B47E8D7+23]\n\tRtlUserThreadStart [0x00007FFD9C6FBF6C+44]\n"
     ]
    }
   ],
   "source": [
    "driver.refresh()\n",
    "wait = WebDriverWait(driver, timeout=30, poll_frequency=1)\n",
    "wait.until(EC.element_attribute_to_include(locator=(By.ID, 'star5'), attribute_='name'))"
   ]
  },
  {
   "cell_type": "code",
   "execution_count": null,
   "metadata": {},
   "outputs": [
    {
     "data": {
      "text/plain": [
       "<selenium.webdriver.common.alert.Alert at 0x260c52dc7f0>"
      ]
     },
     "execution_count": 20,
     "metadata": {},
     "output_type": "execute_result"
    }
   ],
   "source": [
    "driver.refresh()\n",
    "wait = WebDriverWait(driver, timeout=30, poll_frequency=1)\n",
    "wait.until(EC.alert_is_present())"
   ]
  },
  {
   "cell_type": "code",
   "execution_count": null,
   "metadata": {},
   "outputs": [],
   "source": [
    "driver.get(\"https://curso-web-scraping.pages.dev/#/exemplo/6\")\n"
   ]
  },
  {
   "cell_type": "code",
   "execution_count": null,
   "metadata": {},
   "outputs": [],
   "source": [
    "driver.implicitly_wait(time_to_wait=10)"
   ]
  },
  {
   "cell_type": "code",
   "execution_count": null,
   "metadata": {},
   "outputs": [],
   "source": [
    "estados = driver.find_element(By.ID, 'estados')"
   ]
  },
  {
   "cell_type": "code",
   "execution_count": null,
   "metadata": {},
   "outputs": [
    {
     "data": {
      "text/plain": [
       "'flex flex-wrap justify-start lg:mx-auto gap-8 text-left'"
      ]
     },
     "execution_count": 7,
     "metadata": {},
     "output_type": "execute_result"
    }
   ],
   "source": [
    "estados.get_attribute('class')"
   ]
  },
  {
   "cell_type": "code",
   "execution_count": null,
   "metadata": {},
   "outputs": [
    {
     "data": {
      "text/plain": [
       "'estados'"
      ]
     },
     "execution_count": 8,
     "metadata": {},
     "output_type": "execute_result"
    }
   ],
   "source": [
    "estados.get_attribute('id')"
   ]
  },
  {
   "cell_type": "code",
   "execution_count": null,
   "metadata": {},
   "outputs": [
    {
     "name": "stdout",
     "output_type": "stream",
     "text": [
      "Região Centro-Oeste\n",
      "Região Nordeste\n",
      "Região Norte\n",
      "Região Sudeste\n",
      "Região Sul\n"
     ]
    }
   ],
   "source": [
    "for estado in estados.get_property('children'):\n",
    "    cchild = estado.get_property('children')\n",
    "\n",
    "    for cc in cchild:\n",
    "        if cc.tag_name == 'label':\n",
    "            print(cc.text)"
   ]
  },
  {
   "cell_type": "code",
   "execution_count": null,
   "metadata": {},
   "outputs": [
    {
     "data": {
      "text/plain": [
       "{'country': 'Brasil',\n",
       " 'language': 'Português',\n",
       " 'location': 'América do Sul',\n",
       " 'timezone': 'UTC-3'}"
      ]
     },
     "execution_count": 14,
     "metadata": {},
     "output_type": "execute_result"
    }
   ],
   "source": [
    "estados.get_property('dataset')"
   ]
  },
  {
   "cell_type": "code",
   "execution_count": null,
   "metadata": {},
   "outputs": [
    {
     "data": {
      "text/plain": [
       "<IPython.core.display.HTML object>"
      ]
     },
     "execution_count": 16,
     "metadata": {},
     "output_type": "execute_result"
    }
   ],
   "source": [
    "from IPython.display import HTML\n",
    "HTML(estados.get_property('outerHMLT'))"
   ]
  },
  {
   "cell_type": "code",
   "execution_count": null,
   "metadata": {},
   "outputs": [
    {
     "data": {
      "text/plain": [
       "{'height': 552, 'width': 645}"
      ]
     },
     "execution_count": 17,
     "metadata": {},
     "output_type": "execute_result"
    }
   ],
   "source": [
    "estados.size"
   ]
  },
  {
   "cell_type": "code",
   "execution_count": null,
   "metadata": {},
   "outputs": [
    {
     "data": {
      "text/plain": [
       "{'x': 187, 'y': 132}"
      ]
     },
     "execution_count": 18,
     "metadata": {},
     "output_type": "execute_result"
    }
   ],
   "source": [
    "estados.location"
   ]
  },
  {
   "cell_type": "code",
   "execution_count": null,
   "metadata": {},
   "outputs": [
    {
     "data": {
      "text/plain": [
       "'0px solid rgb(229, 231, 235)'"
      ]
     },
     "execution_count": 19,
     "metadata": {},
     "output_type": "execute_result"
    }
   ],
   "source": [
    "estados.value_of_css_property('border')"
   ]
  },
  {
   "cell_type": "code",
   "execution_count": null,
   "metadata": {},
   "outputs": [],
   "source": [
    "driver.get(\"https://curso-web-scraping.pages.dev/#/exemplo/7\")\n"
   ]
  },
  {
   "cell_type": "code",
   "execution_count": null,
   "metadata": {},
   "outputs": [],
   "source": [
    "galeria = driver.find_element(By.ID,'galeria')\n",
    "imagens = galeria.find_elements(By.TAG_NAME, 'img')"
   ]
  },
  {
   "cell_type": "code",
   "execution_count": null,
   "metadata": {},
   "outputs": [],
   "source": [
    "for img in imagens:\n",
    "    response = requests.get(img.get_property('src'))\n",
    "    with open(f'./imagens/{img.get_property(\"id\")}.jpg', 'wb+') as file:\n",
    "        file.write(response.content)"
   ]
  },
  {
   "cell_type": "code",
   "execution_count": 6,
   "metadata": {},
   "outputs": [],
   "source": [
    "driver.get(\"https://curso-web-scraping.pages.dev/#/exemplo/8?page=1\")"
   ]
  },
  {
   "cell_type": "code",
   "execution_count": 7,
   "metadata": {},
   "outputs": [],
   "source": [
    "driver.implicitly_wait(time_to_wait=10)"
   ]
  },
  {
   "cell_type": "code",
   "execution_count": null,
   "metadata": {},
   "outputs": [],
   "source": []
  },
  {
   "cell_type": "code",
   "execution_count": null,
   "metadata": {},
   "outputs": [
    {
     "data": {
      "text/plain": [
       "[<selenium.webdriver.remote.webelement.WebElement (session=\"82ddaba0051ca846451a5f3d2836b073\", element=\"f.3F162C34EA74FDECD315B1A0C7744DB0.d.AB7977F8891AEE739C0682B776FDA08C.e.71\")>,\n",
       " <selenium.webdriver.remote.webelement.WebElement (session=\"82ddaba0051ca846451a5f3d2836b073\", element=\"f.3F162C34EA74FDECD315B1A0C7744DB0.d.AB7977F8891AEE739C0682B776FDA08C.e.68\")>,\n",
       " <selenium.webdriver.remote.webelement.WebElement (session=\"82ddaba0051ca846451a5f3d2836b073\", element=\"f.3F162C34EA74FDECD315B1A0C7744DB0.d.AB7977F8891AEE739C0682B776FDA08C.e.57\")>,\n",
       " <selenium.webdriver.remote.webelement.WebElement (session=\"82ddaba0051ca846451a5f3d2836b073\", element=\"f.3F162C34EA74FDECD315B1A0C7744DB0.d.AB7977F8891AEE739C0682B776FDA08C.e.58\")>,\n",
       " <selenium.webdriver.remote.webelement.WebElement (session=\"82ddaba0051ca846451a5f3d2836b073\", element=\"f.3F162C34EA74FDECD315B1A0C7744DB0.d.AB7977F8891AEE739C0682B776FDA08C.e.59\")>,\n",
       " <selenium.webdriver.remote.webelement.WebElement (session=\"82ddaba0051ca846451a5f3d2836b073\", element=\"f.3F162C34EA74FDECD315B1A0C7744DB0.d.AB7977F8891AEE739C0682B776FDA08C.e.60\")>,\n",
       " <selenium.webdriver.remote.webelement.WebElement (session=\"82ddaba0051ca846451a5f3d2836b073\", element=\"f.3F162C34EA74FDECD315B1A0C7744DB0.d.AB7977F8891AEE739C0682B776FDA08C.e.72\")>,\n",
       " <selenium.webdriver.remote.webelement.WebElement (session=\"82ddaba0051ca846451a5f3d2836b073\", element=\"f.3F162C34EA74FDECD315B1A0C7744DB0.d.AB7977F8891AEE739C0682B776FDA08C.e.73\")>,\n",
       " <selenium.webdriver.remote.webelement.WebElement (session=\"82ddaba0051ca846451a5f3d2836b073\", element=\"f.3F162C34EA74FDECD315B1A0C7744DB0.d.AB7977F8891AEE739C0682B776FDA08C.e.74\")>,\n",
       " <selenium.webdriver.remote.webelement.WebElement (session=\"82ddaba0051ca846451a5f3d2836b073\", element=\"f.3F162C34EA74FDECD315B1A0C7744DB0.d.AB7977F8891AEE739C0682B776FDA08C.e.75\")>]"
      ]
     },
     "execution_count": 10,
     "metadata": {},
     "output_type": "execute_result"
    }
   ],
   "source": [
    "\n",
    "linhas"
   ]
  },
  {
   "cell_type": "code",
   "execution_count": 11,
   "metadata": {},
   "outputs": [],
   "source": [
    "from dataclasses import dataclass\n",
    "\n",
    "@dataclass\n",
    "class Usuario:\n",
    "    avatar: str\n",
    "    nome: str\n",
    "    profissao: str\n",
    "    email: str\n",
    "    perfil: str\n",
    "    estado: str"
   ]
  },
  {
   "cell_type": "code",
   "execution_count": 36,
   "metadata": {},
   "outputs": [
    {
     "name": "stdout",
     "output_type": "stream",
     "text": [
      "https://curso-web-scraping.pages.dev/#/exemplo/8?page=1\n",
      "https://curso-web-scraping.pages.dev/#/exemplo/8?page=2\n",
      "https://curso-web-scraping.pages.dev/#/exemplo/8?page=3\n",
      "https://curso-web-scraping.pages.dev/#/exemplo/8?page=4\n",
      "https://curso-web-scraping.pages.dev/#/exemplo/8?page=5\n",
      "https://curso-web-scraping.pages.dev/#/exemplo/8?page=6\n",
      "https://curso-web-scraping.pages.dev/#/exemplo/8?page=7\n",
      "https://curso-web-scraping.pages.dev/#/exemplo/8?page=8\n",
      "https://curso-web-scraping.pages.dev/#/exemplo/8?page=9\n",
      "https://curso-web-scraping.pages.dev/#/exemplo/8?page=10\n"
     ]
    }
   ],
   "source": [
    "registros = []\n",
    "\n",
    "driver.get(\"https://curso-web-scraping.pages.dev/#/exemplo/8?page=1\")\n",
    "\n",
    "proximo = driver.find_element(By.XPATH, '//main//button[contains(text(), \"Próxima\")]')\n",
    "\n",
    "tem_proxima_pagina = True\n",
    "\n",
    "while tem_proxima_pagina:\n",
    "    print(driver.current_url)\n",
    "    proximo = driver.find_element(By.XPATH, '//main//button[contains(text(), \"Próxima\")]')\n",
    "    tabela = driver.find_element(By.ID,'tabela-usuarios')\n",
    "    linhas = tabela.find_elements(By.CSS_SELECTOR, 'tbody tr')\n",
    "    for linha in linhas:\n",
    "        dados = linha.get_property('children')\n",
    "\n",
    "        registro = Usuario(\n",
    "            avatar = dados[0].find_element(By.TAG_NAME, 'img').get_property('src'),\n",
    "            nome= dados[1].text,\n",
    "            profissao= dados[2].text,\n",
    "            email= dados[3].text,\n",
    "            perfil= dados[4].text,\n",
    "            estado= dados[5].text,\n",
    "        )\n",
    "        registros.append(registro)\n",
    "    \n",
    "    if not proximo.get_property('disabled'):\n",
    "        proximo.click()\n",
    "    else:\n",
    "        tem_proxima_pagina = False\n",
    "\n",
    "\n",
    "    \n",
    "\n"
   ]
  },
  {
   "cell_type": "code",
   "execution_count": 37,
   "metadata": {},
   "outputs": [
    {
     "data": {
      "text/plain": [
       "Usuario(avatar='https://avatars.githubusercontent.com/u/88971655', nome='Lívia Moraes', profissao='Policial', email='livia.moraes32@example.org', perfil='livia.moraes45', estado='Minas Gerais')"
      ]
     },
     "execution_count": 37,
     "metadata": {},
     "output_type": "execute_result"
    }
   ],
   "source": [
    "registros[-1]"
   ]
  },
  {
   "cell_type": "code",
   "execution_count": 53,
   "metadata": {},
   "outputs": [],
   "source": [
    "import pandas as pd\n",
    "from io import StringIO\n",
    "\n",
    "driver.get(\"https://curso-web-scraping.pages.dev/#/exemplo/8?page=1\")\n",
    "sio = StringIO(initial_value=driver.page_source)\n",
    "tabelas = pd.read_html(io=sio, attrs={'id': 'tabela-usuarios'})"
   ]
  },
  {
   "cell_type": "code",
   "execution_count": 54,
   "metadata": {},
   "outputs": [
    {
     "data": {
      "text/html": [
       "<div>\n",
       "<style scoped>\n",
       "    .dataframe tbody tr th:only-of-type {\n",
       "        vertical-align: middle;\n",
       "    }\n",
       "\n",
       "    .dataframe tbody tr th {\n",
       "        vertical-align: top;\n",
       "    }\n",
       "\n",
       "    .dataframe thead th {\n",
       "        text-align: right;\n",
       "    }\n",
       "</style>\n",
       "<table border=\"1\" class=\"dataframe\">\n",
       "  <thead>\n",
       "    <tr style=\"text-align: right;\">\n",
       "      <th></th>\n",
       "      <th>Avatar</th>\n",
       "      <th>Nome completo</th>\n",
       "      <th>Profissão</th>\n",
       "      <th>E-mail</th>\n",
       "      <th>Perfil</th>\n",
       "      <th>Estado</th>\n",
       "    </tr>\n",
       "  </thead>\n",
       "  <tbody>\n",
       "    <tr>\n",
       "      <th>0</th>\n",
       "      <td>NaN</td>\n",
       "      <td>Bernardo Barros</td>\n",
       "      <td>Desenvolvedor</td>\n",
       "      <td>bernardo.barros37@example.org</td>\n",
       "      <td>bernardo.barros</td>\n",
       "      <td>Sergipe</td>\n",
       "    </tr>\n",
       "    <tr>\n",
       "      <th>1</th>\n",
       "      <td>NaN</td>\n",
       "      <td>Ana Clara Batista</td>\n",
       "      <td>Orquestrador</td>\n",
       "      <td>anaclara.batista47@example.com</td>\n",
       "      <td>anaclara_batista</td>\n",
       "      <td>Paraíba</td>\n",
       "    </tr>\n",
       "    <tr>\n",
       "      <th>2</th>\n",
       "      <td>NaN</td>\n",
       "      <td>Davi Lucca Moreira</td>\n",
       "      <td>Supervisor</td>\n",
       "      <td>davilucca.moreira@example.org</td>\n",
       "      <td>davilucca.moreira10</td>\n",
       "      <td>São Paulo</td>\n",
       "    </tr>\n",
       "    <tr>\n",
       "      <th>3</th>\n",
       "      <td>NaN</td>\n",
       "      <td>Luiza Pereira</td>\n",
       "      <td>Administrador</td>\n",
       "      <td>luiza_pereira45@example.org</td>\n",
       "      <td>luiza.pereira99</td>\n",
       "      <td>São Paulo</td>\n",
       "    </tr>\n",
       "    <tr>\n",
       "      <th>4</th>\n",
       "      <td>NaN</td>\n",
       "      <td>Enzo Braga Jr.</td>\n",
       "      <td>Coordenador</td>\n",
       "      <td>enzo.braga0@example.org</td>\n",
       "      <td>enzo.braga75</td>\n",
       "      <td>Alagoas</td>\n",
       "    </tr>\n",
       "    <tr>\n",
       "      <th>5</th>\n",
       "      <td>NaN</td>\n",
       "      <td>Anthony Souza Filho</td>\n",
       "      <td>Analista</td>\n",
       "      <td>anthony_souza@example.net</td>\n",
       "      <td>anthony_souza26</td>\n",
       "      <td>Rio Grande do Sul</td>\n",
       "    </tr>\n",
       "    <tr>\n",
       "      <th>6</th>\n",
       "      <td>NaN</td>\n",
       "      <td>Eduardo Carvalho</td>\n",
       "      <td>Analista</td>\n",
       "      <td>eduardo_carvalho15@example.net</td>\n",
       "      <td>eduardo_carvalho</td>\n",
       "      <td>Ceará</td>\n",
       "    </tr>\n",
       "    <tr>\n",
       "      <th>7</th>\n",
       "      <td>NaN</td>\n",
       "      <td>João Lucas Carvalho</td>\n",
       "      <td>Executivo</td>\n",
       "      <td>joaolucas_carvalho@example.org</td>\n",
       "      <td>joaolucas.carvalho</td>\n",
       "      <td>Tocantins</td>\n",
       "    </tr>\n",
       "    <tr>\n",
       "      <th>8</th>\n",
       "      <td>NaN</td>\n",
       "      <td>Natália Braga</td>\n",
       "      <td>Supervisor</td>\n",
       "      <td>natalia_braga@example.com</td>\n",
       "      <td>natalia_braga42</td>\n",
       "      <td>Santa Catarina</td>\n",
       "    </tr>\n",
       "    <tr>\n",
       "      <th>9</th>\n",
       "      <td>NaN</td>\n",
       "      <td>Dr. Roberta Macedo</td>\n",
       "      <td>Administrador</td>\n",
       "      <td>roberta_macedo13@example.net</td>\n",
       "      <td>roberta.macedo</td>\n",
       "      <td>Santa Catarina</td>\n",
       "    </tr>\n",
       "  </tbody>\n",
       "</table>\n",
       "</div>"
      ],
      "text/plain": [
       "   Avatar        Nome completo      Profissão                          E-mail  \\\n",
       "0     NaN      Bernardo Barros  Desenvolvedor   bernardo.barros37@example.org   \n",
       "1     NaN    Ana Clara Batista   Orquestrador  anaclara.batista47@example.com   \n",
       "2     NaN   Davi Lucca Moreira     Supervisor   davilucca.moreira@example.org   \n",
       "3     NaN        Luiza Pereira  Administrador     luiza_pereira45@example.org   \n",
       "4     NaN       Enzo Braga Jr.    Coordenador         enzo.braga0@example.org   \n",
       "5     NaN  Anthony Souza Filho       Analista       anthony_souza@example.net   \n",
       "6     NaN     Eduardo Carvalho       Analista  eduardo_carvalho15@example.net   \n",
       "7     NaN  João Lucas Carvalho      Executivo  joaolucas_carvalho@example.org   \n",
       "8     NaN        Natália Braga     Supervisor       natalia_braga@example.com   \n",
       "9     NaN   Dr. Roberta Macedo  Administrador    roberta_macedo13@example.net   \n",
       "\n",
       "                Perfil             Estado  \n",
       "0      bernardo.barros            Sergipe  \n",
       "1     anaclara_batista            Paraíba  \n",
       "2  davilucca.moreira10          São Paulo  \n",
       "3      luiza.pereira99          São Paulo  \n",
       "4         enzo.braga75            Alagoas  \n",
       "5      anthony_souza26  Rio Grande do Sul  \n",
       "6     eduardo_carvalho              Ceará  \n",
       "7   joaolucas.carvalho          Tocantins  \n",
       "8      natalia_braga42     Santa Catarina  \n",
       "9       roberta.macedo     Santa Catarina  "
      ]
     },
     "execution_count": 54,
     "metadata": {},
     "output_type": "execute_result"
    }
   ],
   "source": [
    "tabela[0]"
   ]
  },
  {
   "cell_type": "code",
   "execution_count": 57,
   "metadata": {},
   "outputs": [
    {
     "data": {
      "text/plain": [
       "True"
      ]
     },
     "execution_count": 57,
     "metadata": {},
     "output_type": "execute_result"
    }
   ],
   "source": [
    "driver.get(\"https://curso-web-scraping.pages.dev/#/exemplo/1\")\n",
    "\n",
    "driver.save_screenshot(filename='screenshot.jpg')"
   ]
  },
  {
   "cell_type": "code",
   "execution_count": null,
   "metadata": {},
   "outputs": [
    {
     "ename": "TypeError",
     "evalue": "WebDriver.get_screenshot_as_base64() got an unexpected keyword argument 'filename'",
     "output_type": "error",
     "traceback": [
      "\u001b[1;31m---------------------------------------------------------------------------\u001b[0m",
      "\u001b[1;31mTypeError\u001b[0m                                 Traceback (most recent call last)",
      "Cell \u001b[1;32mIn[59], line 1\u001b[0m\n\u001b[1;32m----> 1\u001b[0m \u001b[43mdriver\u001b[49m\u001b[38;5;241;43m.\u001b[39;49m\u001b[43mget_screenshot_as_base64\u001b[49m\u001b[43m(\u001b[49m\u001b[43mfilename\u001b[49m\u001b[38;5;241;43m=\u001b[39;49m\u001b[38;5;124;43m'\u001b[39;49m\u001b[38;5;124;43mscreenshot.jpg\u001b[39;49m\u001b[38;5;124;43m'\u001b[39;49m\u001b[43m)\u001b[49m\n",
      "\u001b[1;31mTypeError\u001b[0m: WebDriver.get_screenshot_as_base64() got an unexpected keyword argument 'filename'"
     ]
    }
   ],
   "source": [
    "driver.get_screenshot_as_file(filename='screenshot.jpg')"
   ]
  },
  {
   "cell_type": "code",
   "execution_count": 60,
   "metadata": {},
   "outputs": [
    {
     "data": {
      "text/plain": [
       "'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'"
      ]
     },
     "execution_count": 60,
     "metadata": {},
     "output_type": "execute_result"
    }
   ],
   "source": [
    "driver.get_screenshot_as_base64()"
   ]
  },
  {
   "cell_type": "code",
   "execution_count": null,
   "metadata": {},
   "outputs": [],
   "source": []
  }
 ],
 "metadata": {
  "kernelspec": {
   "display_name": "venv",
   "language": "python",
   "name": "python3"
  },
  "language_info": {
   "codemirror_mode": {
    "name": "ipython",
    "version": 3
   },
   "file_extension": ".py",
   "mimetype": "text/x-python",
   "name": "python",
   "nbconvert_exporter": "python",
   "pygments_lexer": "ipython3",
   "version": "3.10.11"
  }
 },
 "nbformat": 4,
 "nbformat_minor": 2
}
