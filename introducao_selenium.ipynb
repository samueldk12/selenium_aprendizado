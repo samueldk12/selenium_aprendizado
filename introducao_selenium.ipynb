{
 "cells": [
  {
   "cell_type": "code",
   "execution_count": 1,
   "metadata": {},
   "outputs": [],
   "source": [
    "from selenium import webdriver\n",
    "from IPython.display import HTML"
   ]
  },
  {
   "cell_type": "code",
   "execution_count": 2,
   "metadata": {},
   "outputs": [],
   "source": [
    "driver = webdriver.Chrome()"
   ]
  },
  {
   "cell_type": "code",
   "execution_count": 76,
   "metadata": {},
   "outputs": [],
   "source": [
    "driver.get('https://curso-web-scraping.pages.dev/#/exemplo/1')"
   ]
  },
  {
   "cell_type": "code",
   "execution_count": 23,
   "metadata": {},
   "outputs": [],
   "source": [
    "page = driver.page_source"
   ]
  },
  {
   "cell_type": "code",
   "execution_count": 3,
   "metadata": {},
   "outputs": [],
   "source": [
    "from selenium.webdriver.common.by import By"
   ]
  },
  {
   "cell_type": "code",
   "execution_count": 5,
   "metadata": {},
   "outputs": [
    {
     "name": "stdout",
     "output_type": "stream",
     "text": [
      "\n",
      "    nome='Anthony Carvalho',\n",
      "    profissao='Dinâmico Divisão Desenvolvedor',\n",
      "    signo='Virgem',\n",
      "    genero='Feminino'\n",
      "\n"
     ]
    }
   ],
   "source": [
    "nome = driver.find_element(By.ID, 'user').get_property('value')\n",
    "profissao = driver.find_element(By.ID, 'role').get_attribute('value')\n",
    "signo = driver.find_element(By.ID, 'zodiac').get_attribute('value')\n",
    "genero = driver.find_element(By.ID, 'gender').get_attribute('value')\n",
    "\n",
    "print(f'''\n",
    "    {nome=},\n",
    "    {profissao=},\n",
    "    {signo=},\n",
    "    {genero=}\n",
    "''')"
   ]
  },
  {
   "cell_type": "code",
   "execution_count": 6,
   "metadata": {},
   "outputs": [
    {
     "name": "stdout",
     "output_type": "stream",
     "text": [
      "Anthony Carvalho\n",
      "Dinâmico Divisão Desenvolvedor\n",
      "Virgem\n",
      "Feminino\n"
     ]
    }
   ],
   "source": [
    "campos = driver.find_elements(By.TAG_NAME, 'input')\n",
    "\n",
    "for campo in campos:\n",
    "    valor = campo.get_property('value')\n",
    "    print(valor)\n"
   ]
  },
  {
   "cell_type": "code",
   "execution_count": 7,
   "metadata": {},
   "outputs": [
    {
     "name": "stdout",
     "output_type": "stream",
     "text": [
      "Instagram\n",
      "Facebook\n",
      "Github\n",
      "YouTube\n",
      "Telegram\n"
     ]
    }
   ],
   "source": [
    "redes_sociais = driver.find_elements(By.TAG_NAME, 'span')\n",
    "\n",
    "for rede in redes_sociais[-5:]:\n",
    "    valor = rede.text\n",
    "    print(valor)\n"
   ]
  },
  {
   "cell_type": "code",
   "execution_count": 8,
   "metadata": {},
   "outputs": [
    {
     "name": "stdout",
     "output_type": "stream",
     "text": [
      "Instagram\n",
      "Facebook\n",
      "Github\n",
      "YouTube\n",
      "Telegram\n"
     ]
    }
   ],
   "source": [
    "redes_sociais = driver.find_element(By.ID,'social').find_elements(By.TAG_NAME, 'span')\n",
    "for rede in redes_sociais:\n",
    "    valor = rede.text\n",
    "    print(valor)"
   ]
  },
  {
   "cell_type": "code",
   "execution_count": 9,
   "metadata": {},
   "outputs": [],
   "source": [
    "instagram = driver.find_element(By.LINK_TEXT,'Instagram')\n",
    "instagram_e_telegram = driver.find_elements(By.PARTIAL_LINK_TEXT,'gram')"
   ]
  },
  {
   "cell_type": "code",
   "execution_count": 10,
   "metadata": {},
   "outputs": [
    {
     "name": "stdout",
     "output_type": "stream",
     "text": [
      "Instagram\n",
      "Telegram\n"
     ]
    }
   ],
   "source": [
    "for rede in instagram_e_telegram:\n",
    "    print(rede.text)"
   ]
  },
  {
   "cell_type": "code",
   "execution_count": 11,
   "metadata": {},
   "outputs": [
    {
     "name": "stdout",
     "output_type": "stream",
     "text": [
      "Instagram\n",
      "Facebook\n",
      "Github\n",
      "YouTube\n",
      "Telegram\n"
     ]
    }
   ],
   "source": [
    "links = driver.find_element(By.ID,'social').find_elements(By.TAG_NAME, 'a')\n",
    "for link in links:\n",
    "    print(link.text)"
   ]
  },
  {
   "cell_type": "code",
   "execution_count": 12,
   "metadata": {},
   "outputs": [
    {
     "name": "stdout",
     "output_type": "stream",
     "text": [
      "Anthony Carvalho\n",
      "Dinâmico Divisão Desenvolvedor\n",
      "Virgem\n",
      "Feminino\n"
     ]
    }
   ],
   "source": [
    "inputs = driver.find_elements(By.CLASS_NAME,'styled-input')\n",
    "\n",
    "for input in inputs:\n",
    "    print(input.get_attribute('value'))"
   ]
  },
  {
   "cell_type": "code",
   "execution_count": 13,
   "metadata": {},
   "outputs": [
    {
     "name": "stdout",
     "output_type": "stream",
     "text": [
      "Virgem\n",
      "Feminino\n"
     ]
    }
   ],
   "source": [
    "#separação entre duas classes é pelo .\n",
    "inputs = driver.find_elements(By.CLASS_NAME,'styled-input.optional-info')\n",
    "\n",
    "for input in inputs:\n",
    "    print(input.get_attribute('value'))"
   ]
  },
  {
   "cell_type": "code",
   "execution_count": 14,
   "metadata": {},
   "outputs": [
    {
     "name": "stdout",
     "output_type": "stream",
     "text": [
      "Virgem\n",
      "Feminino\n"
     ]
    }
   ],
   "source": [
    "#separação entre duas classes é pelo .\n",
    "inputs = driver.find_elements(By.CLASS_NAME,'styled-input.optional-info')\n",
    "\n",
    "for input in inputs:\n",
    "    print(input.get_attribute('value'))"
   ]
  },
  {
   "cell_type": "code",
   "execution_count": 35,
   "metadata": {},
   "outputs": [
    {
     "name": "stdout",
     "output_type": "stream",
     "text": [
      "  https://programadoraventureiro.com/\n",
      "CSS - ID e Classes  https://curso-web-scraping.pages.dev/#/seletorescss/1\n",
      "CSS - Combinadores  https://curso-web-scraping.pages.dev/#/seletorescss/2\n",
      "CSS - Filho imediato  https://curso-web-scraping.pages.dev/#/seletorescss/3\n",
      "CSS - Irmãos  https://curso-web-scraping.pages.dev/#/seletorescss/4\n",
      "Exemplo 1  https://curso-web-scraping.pages.dev/#/exemplo/1\n",
      "Exemplo 2  https://curso-web-scraping.pages.dev/#/exemplo/2\n",
      "Exemplo 3  https://curso-web-scraping.pages.dev/#/exemplo/3\n",
      "Exemplo 4  https://curso-web-scraping.pages.dev/#/exemplo/4\n",
      "Exemplo 5  https://curso-web-scraping.pages.dev/#/exemplo/5\n",
      "Exemplo 6  https://curso-web-scraping.pages.dev/#/exemplo/6\n",
      "Exemplo 7  https://curso-web-scraping.pages.dev/#/exemplo/7\n",
      "Exemplo 8  https://curso-web-scraping.pages.dev/#/exemplo/8\n",
      "Exemplo 9  https://curso-web-scraping.pages.dev/#/exemplo/9\n",
      "Exemplo 10  https://curso-web-scraping.pages.dev/#/exemplo/10\n",
      "Exemplo 11  https://curso-web-scraping.pages.dev/#/exemplo/11\n",
      "Desafio 1  https://curso-web-scraping.pages.dev/#/desafio/1\n",
      "Desafio 2  https://curso-web-scraping.pages.dev/#/desafio/2\n",
      "Desafio 3  https://curso-web-scraping.pages.dev/#/desafio/3\n",
      "Desafio 4  https://curso-web-scraping.pages.dev/#/desafio/4\n",
      "Instagram  https://curso-web-scraping.pages.dev/#\n",
      "Facebook  https://curso-web-scraping.pages.dev/#\n",
      "Github  https://curso-web-scraping.pages.dev/#\n",
      "YouTube  https://curso-web-scraping.pages.dev/#\n",
      "Telegram  https://curso-web-scraping.pages.dev/#\n"
     ]
    }
   ],
   "source": [
    "inputs = driver.find_elements(By.CSS_SELECTOR,'a')\n",
    "\n",
    "for input in inputs:\n",
    "    print(input.text, input.get_attribute('id'), input.get_attribute('href'))"
   ]
  },
  {
   "cell_type": "code",
   "execution_count": 48,
   "metadata": {},
   "outputs": [
    {
     "name": "stdout",
     "output_type": "stream",
     "text": [
      "  https://curso-web-scraping.pages.dev/assets/logo.png None █\n",
      "  https://gc.kis.v2.scr.kaspersky-labs.com/E3E8934C-235A-4B0E-825A-35A08381A191/abn/main.css?attr=aHR0cHM6Ly9jdXJzby13ZWItc2NyYXBpbmcucGFnZXMuZGV2Lw None █\n",
      "  https://curso-web-scraping.pages.dev/assets/index-DTTwq5ti.css None █\n",
      "  https://programadoraventureiro.com/ None █\n",
      "CSS - ID e Classes  https://curso-web-scraping.pages.dev/#/seletorescss/1 None █\n",
      "CSS - Combinadores  https://curso-web-scraping.pages.dev/#/seletorescss/2 None █\n",
      "CSS - Filho imediato  https://curso-web-scraping.pages.dev/#/seletorescss/3 None █\n",
      "CSS - Irmãos  https://curso-web-scraping.pages.dev/#/seletorescss/4 None █\n",
      "Exemplo 1  https://curso-web-scraping.pages.dev/#/exemplo/1 None █\n",
      "Exemplo 2  https://curso-web-scraping.pages.dev/#/exemplo/2 None █\n",
      "Exemplo 3  https://curso-web-scraping.pages.dev/#/exemplo/3 None █\n",
      "Exemplo 4  https://curso-web-scraping.pages.dev/#/exemplo/4 None █\n",
      "Exemplo 5  https://curso-web-scraping.pages.dev/#/exemplo/5 None █\n",
      "Exemplo 6  https://curso-web-scraping.pages.dev/#/exemplo/6 None █\n",
      "Exemplo 7  https://curso-web-scraping.pages.dev/#/exemplo/7 None █\n",
      "Exemplo 8  https://curso-web-scraping.pages.dev/#/exemplo/8 None █\n",
      "Exemplo 9  https://curso-web-scraping.pages.dev/#/exemplo/9 None █\n",
      "Exemplo 10  https://curso-web-scraping.pages.dev/#/exemplo/10 None █\n",
      "Exemplo 11  https://curso-web-scraping.pages.dev/#/exemplo/11 None █\n",
      "Desafio 1  https://curso-web-scraping.pages.dev/#/desafio/1 None █\n",
      "Desafio 2  https://curso-web-scraping.pages.dev/#/desafio/2 None █\n",
      "Desafio 3  https://curso-web-scraping.pages.dev/#/desafio/3 None █\n",
      "Desafio 4  https://curso-web-scraping.pages.dev/#/desafio/4 None █\n"
     ]
    }
   ],
   "source": [
    "#Pesquisa por multi atribulto\n",
    "inputs = driver.find_elements(By.CSS_SELECTOR,'[href]')\n",
    "\n",
    "for input in inputs:\n",
    "    print(input.text, input.get_attribute('id'), input.get_attribute('href'), input.get_attribute('value'),'█')"
   ]
  },
  {
   "cell_type": "code",
   "execution_count": 51,
   "metadata": {},
   "outputs": [
    {
     "name": "stdout",
     "output_type": "stream",
     "text": [
      "█ Abrir menu\n",
      "Programador Aventureiro\n",
      "Aprenda programação desde o zero! 👨🏻‍💻\n",
      "CSS - ID e Classes\n",
      "CSS - Combinadores\n",
      "CSS - Filho imediato\n",
      "CSS - Irmãos\n",
      "Exemplo 1\n",
      "Exemplo 2\n",
      "Exemplo 3\n",
      "Exemplo 4\n",
      "Exemplo 5\n",
      "Exemplo 6\n",
      "Exemplo 7\n",
      "Exemplo 8\n",
      "Exemplo 9\n",
      "Exemplo 10\n",
      "Exemplo 11\n",
      "Desafio 1\n",
      "Desafio 2\n",
      "Desafio 3\n",
      "Desafio 4\n",
      "Escolha uma categoria\n",
      "Celulares\n",
      "Games\n",
      "Notebooks\n",
      "TVs"
     ]
    }
   ],
   "source": [
    "#Forma um caminho de tags, quando se tem mais de uma tag igual se escolha pela posicao colocando []\n",
    "inputs = driver.find_elements(By.XPATH,'/html/body/div')\n",
    "\n",
    "for input in inputs:\n",
    "    print('█',input.text,end='')"
   ]
  },
  {
   "cell_type": "code",
   "execution_count": 52,
   "metadata": {},
   "outputs": [
    {
     "name": "stdout",
     "output_type": "stream",
     "text": [
      "  https://programadoraventureiro.com/\n",
      "CSS - ID e Classes  https://curso-web-scraping.pages.dev/#/seletorescss/1\n",
      "CSS - Combinadores  https://curso-web-scraping.pages.dev/#/seletorescss/2\n",
      "CSS - Filho imediato  https://curso-web-scraping.pages.dev/#/seletorescss/3\n",
      "CSS - Irmãos  https://curso-web-scraping.pages.dev/#/seletorescss/4\n",
      "Exemplo 1  https://curso-web-scraping.pages.dev/#/exemplo/1\n",
      "Exemplo 2  https://curso-web-scraping.pages.dev/#/exemplo/2\n",
      "Exemplo 3  https://curso-web-scraping.pages.dev/#/exemplo/3\n",
      "Exemplo 4  https://curso-web-scraping.pages.dev/#/exemplo/4\n",
      "Exemplo 5  https://curso-web-scraping.pages.dev/#/exemplo/5\n",
      "Exemplo 6  https://curso-web-scraping.pages.dev/#/exemplo/6\n",
      "Exemplo 7  https://curso-web-scraping.pages.dev/#/exemplo/7\n",
      "Exemplo 8  https://curso-web-scraping.pages.dev/#/exemplo/8\n",
      "Exemplo 9  https://curso-web-scraping.pages.dev/#/exemplo/9\n",
      "Exemplo 10  https://curso-web-scraping.pages.dev/#/exemplo/10\n",
      "Exemplo 11  https://curso-web-scraping.pages.dev/#/exemplo/11\n",
      "Desafio 1  https://curso-web-scraping.pages.dev/#/desafio/1\n",
      "Desafio 2  https://curso-web-scraping.pages.dev/#/desafio/2\n",
      "Desafio 3  https://curso-web-scraping.pages.dev/#/desafio/3\n",
      "Desafio 4  https://curso-web-scraping.pages.dev/#/desafio/4\n"
     ]
    }
   ],
   "source": [
    "#Para buscar por tag basta digitar //\n",
    "inputs = driver.find_elements(By.XPATH,'//a')\n",
    "\n",
    "for input in inputs:\n",
    "    print(input.text, input.get_attribute('id'), input.get_attribute('href'))"
   ]
  },
  {
   "cell_type": "code",
   "execution_count": 56,
   "metadata": {},
   "outputs": [],
   "source": [
    "#Para selecionar por posicao ou mais de 2 posicoes\n",
    "inputs = driver.find_elements(By.XPATH,'//input[1] | //input[4]')\n",
    "\n",
    "for input in inputs:\n",
    "    print(input.get_attribute('value'))"
   ]
  },
  {
   "cell_type": "code",
   "execution_count": null,
   "metadata": {},
   "outputs": [
    {
     "name": "stdout",
     "output_type": "stream",
     "text": [
      "Dr. Noah Braga\n",
      "Nacional Marketing Atentende\n",
      "Escorpião\n",
      "Feminino\n"
     ]
    }
   ],
   "source": [
    "#Para selecionar por atributo, a diferença do css é que se coloca @ na frente\n",
    "inputs = driver.find_elements(By.XPATH,'//input[@id]')\n",
    "\n",
    "for input in inputs:\n",
    "    print(input.get_attribute('value'))"
   ]
  },
  {
   "cell_type": "code",
   "execution_count": 70,
   "metadata": {},
   "outputs": [
    {
     "name": "stdout",
     "output_type": "stream",
     "text": [
      "Instagram\n"
     ]
    }
   ],
   "source": [
    "#Pode concatenar com outros caminhos / -> filho direto // -> qualquer descendente de algum filho\n",
    "inputs = driver.find_elements(By.XPATH,'//div[@id=\"social\"]/a[1]')\n",
    "\n",
    "for input in inputs:\n",
    "    print(input.text)"
   ]
  },
  {
   "cell_type": "code",
   "execution_count": 69,
   "metadata": {},
   "outputs": [
    {
     "name": "stdout",
     "output_type": "stream",
     "text": [
      "Instagram\n",
      "Facebook\n",
      "Github\n",
      "YouTube\n",
      "Telegram\n"
     ]
    }
   ],
   "source": [
    "#Pode concatenar com outros caminhos / -> filho direto // -> qualquer descendente de algum filho\n",
    "inputs = driver.find_elements(By.XPATH,'//div[@id=\"social\"]//span')\n",
    "\n",
    "for input in inputs:\n",
    "    print(input.text)"
   ]
  },
  {
   "cell_type": "code",
   "execution_count": null,
   "metadata": {},
   "outputs": [
    {
     "name": "stdout",
     "output_type": "stream",
     "text": [
      "Profissão\n"
     ]
    }
   ],
   "source": [
    "#Copiando selector do navegador\n",
    "inputs = driver.find_elements(By.CSS_SELECTOR,'#main > main > div.relative.bg-white.dark\\:bg-gray-800.px-6.pt-10.pb-8.shadow-xl.ring-1.ring-gray-900\\/5.rounded-lg.sm\\:px-10 > div > label:nth-child(4)')\n",
    "\n",
    "for input in inputs:\n",
    "    print(input.text)"
   ]
  },
  {
   "cell_type": "code",
   "execution_count": 73,
   "metadata": {},
   "outputs": [
    {
     "name": "stdout",
     "output_type": "stream",
     "text": [
      "Dados do usuário\n",
      "Nome completo\n",
      "Profissão\n",
      "Signo\n",
      "Gênero\n",
      "Redes socais\n",
      "Instagram\n",
      "Facebook\n",
      "Github\n",
      "YouTube\n",
      "Telegram\n"
     ]
    }
   ],
   "source": [
    "#Copiando XPATH do navegador\n",
    "inputs = driver.find_elements(By.XPATH,'//*[@id=\"main\"]/main/div[2]/div[1]')\n",
    "\n",
    "for input in inputs:\n",
    "    print(input.text)"
   ]
  },
  {
   "cell_type": "code",
   "execution_count": null,
   "metadata": {},
   "outputs": [
    {
     "data": {
      "text/plain": [
       "('block w-full rounded-md border-0 py-1.5 px-4 h-10 text-gray-700 ring-1 ring-inset ring-gray-300 bg-white placeholder:text-gray-400 focus:ring-2 focus:ring-inset focus:ring-cyan-600 sm:text-sm sm:leading-6 styled-input optional-info',\n",
       " 'block w-full rounded-md border-0 py-1.5 px-4 h-10 text-gray-700 ring-1 ring-inset ring-gray-300 bg-white placeholder:text-gray-400 focus:ring-2 focus:ring-inset focus:ring-cyan-600 sm:text-sm sm:leading-6 styled-input optional-info')"
      ]
     },
     "execution_count": 79,
     "metadata": {},
     "output_type": "execute_result"
    }
   ],
   "source": [
    "# O atributo é toda propriedade do HTML\n",
    "# A propriedade é o objeto do DOM, que é um objeto javascript\n",
    "\n",
    "attr = driver.find_element(By.ID,'zodiac').get_attribute('class')\n",
    "prop = driver.find_element(By.ID,'zodiac').get_property('className')\n",
    "\n",
    "attr, prop"
   ]
  },
  {
   "cell_type": "code",
   "execution_count": 80,
   "metadata": {},
   "outputs": [
    {
     "data": {
      "text/plain": [
       "('true', {'optional': 'true'})"
      ]
     },
     "execution_count": 80,
     "metadata": {},
     "output_type": "execute_result"
    }
   ],
   "source": [
    "attr = driver.find_element(By.ID,'zodiac').get_attribute('data-optional')\n",
    "prop = driver.find_element(By.ID,'zodiac').get_property('dataset')\n",
    "\n",
    "attr, prop"
   ]
  },
  {
   "cell_type": "code",
   "execution_count": 82,
   "metadata": {},
   "outputs": [],
   "source": [
    "driver.get('https://curso-web-scraping.pages.dev/#/exemplo/2')"
   ]
  },
  {
   "cell_type": "code",
   "execution_count": 95,
   "metadata": {},
   "outputs": [],
   "source": [
    "from selenium.webdriver.common.keys import Keys"
   ]
  },
  {
   "cell_type": "code",
   "execution_count": 96,
   "metadata": {},
   "outputs": [],
   "source": [
    "email = driver.find_element(By.NAME, 'email')\n",
    "email.clear()\n",
    "email.send_keys('samuel.arao@gmail.com')\n",
    "email.send_keys(Keys.ENTER)"
   ]
  },
  {
   "cell_type": "code",
   "execution_count": null,
   "metadata": {},
   "outputs": [],
   "source": []
  },
  {
   "cell_type": "code",
   "execution_count": null,
   "metadata": {},
   "outputs": [],
   "source": [
    "senha = driver.find_element(By.NAME, 'senha')\n",
    "senha.clear()\n",
    "senha.send_keys('teste')\n",
    "senha.submit()\n"
   ]
  },
  {
   "cell_type": "code",
   "execution_count": 92,
   "metadata": {},
   "outputs": [],
   "source": [
    "enviar = driver.find_element(By.CSS_SELECTOR, 'button[type=\"submit\"]')\n",
    "enviar.click()"
   ]
  },
  {
   "cell_type": "code",
   "execution_count": 7,
   "metadata": {},
   "outputs": [],
   "source": [
    "driver.get('https://curso-web-scraping.pages.dev/#/exemplo/3')"
   ]
  },
  {
   "cell_type": "code",
   "execution_count": 4,
   "metadata": {},
   "outputs": [],
   "source": [
    "from selenium.webdriver.support.ui import Select"
   ]
  },
  {
   "cell_type": "code",
   "execution_count": 8,
   "metadata": {},
   "outputs": [],
   "source": [
    "select = Select(driver.find_element(By.NAME, 'regiao'))"
   ]
  },
  {
   "cell_type": "code",
   "execution_count": 9,
   "metadata": {},
   "outputs": [
    {
     "name": "stdout",
     "output_type": "stream",
     "text": [
      "0 Distrito Federal\n",
      "1 Goiás\n",
      "2 Mato Grosso\n",
      "3 Mato Grosso do Sul\n"
     ]
    }
   ],
   "source": [
    "for opt in select.options:\n",
    "    print(opt.get_attribute('value'), opt.text)"
   ]
  },
  {
   "cell_type": "code",
   "execution_count": 114,
   "metadata": {},
   "outputs": [],
   "source": [
    "select.select_by_index(1)"
   ]
  },
  {
   "cell_type": "code",
   "execution_count": 111,
   "metadata": {},
   "outputs": [],
   "source": [
    "select.select_by_visible_text('Distrito Federal')"
   ]
  },
  {
   "cell_type": "code",
   "execution_count": 113,
   "metadata": {},
   "outputs": [],
   "source": [
    "select.select_by_value('1')"
   ]
  },
  {
   "cell_type": "code",
   "execution_count": 10,
   "metadata": {},
   "outputs": [
    {
     "data": {
      "text/plain": [
       "'Distrito Federal'"
      ]
     },
     "execution_count": 10,
     "metadata": {},
     "output_type": "execute_result"
    }
   ],
   "source": [
    "select.first_selected_option.text"
   ]
  },
  {
   "cell_type": "code",
   "execution_count": 16,
   "metadata": {},
   "outputs": [],
   "source": [
    "multi = Select(driver.find_element(By.CSS_SELECTOR,'#multi-select select'))"
   ]
  },
  {
   "cell_type": "code",
   "execution_count": 17,
   "metadata": {},
   "outputs": [
    {
     "name": "stdout",
     "output_type": "stream",
     "text": [
      "0 Distrito Federal\n",
      "1 Goiás\n",
      "2 Mato Grosso\n",
      "3 Mato Grosso do Sul\n"
     ]
    }
   ],
   "source": [
    "for opt in multi.options:\n",
    "    print(opt.get_attribute('value'), opt.text)"
   ]
  },
  {
   "cell_type": "code",
   "execution_count": 27,
   "metadata": {},
   "outputs": [],
   "source": [
    "multi.select_by_index(1)\n",
    "multi.select_by_index(3)"
   ]
  },
  {
   "cell_type": "code",
   "execution_count": 21,
   "metadata": {},
   "outputs": [
    {
     "name": "stdout",
     "output_type": "stream",
     "text": [
      "1 Goiás\n",
      "3 Mato Grosso do Sul\n"
     ]
    }
   ],
   "source": [
    "for aso in multi.all_selected_options:\n",
    "    print(aso.get_attribute('value'), aso.text)"
   ]
  },
  {
   "cell_type": "code",
   "execution_count": null,
   "metadata": {},
   "outputs": [],
   "source": [
    "multi.deselect_by_index(3)"
   ]
  },
  {
   "cell_type": "code",
   "execution_count": 29,
   "metadata": {},
   "outputs": [],
   "source": [
    "for opt in multi.options:\n",
    "    multi.select_by_visible_text(opt.text)"
   ]
  },
  {
   "cell_type": "code",
   "execution_count": 35,
   "metadata": {},
   "outputs": [],
   "source": [
    "multi.deselect_all()"
   ]
  },
  {
   "cell_type": "code",
   "execution_count": 34,
   "metadata": {},
   "outputs": [],
   "source": [
    "for element in driver.find_elements(By.TAG_NAME,'select'):\n",
    "    select = Select(element)\n",
    "    select.select_by_index(1)"
   ]
  },
  {
   "cell_type": "code",
   "execution_count": null,
   "metadata": {},
   "outputs": [],
   "source": []
  }
 ],
 "metadata": {
  "kernelspec": {
   "display_name": "venv",
   "language": "python",
   "name": "python3"
  },
  "language_info": {
   "codemirror_mode": {
    "name": "ipython",
    "version": 3
   },
   "file_extension": ".py",
   "mimetype": "text/x-python",
   "name": "python",
   "nbconvert_exporter": "python",
   "pygments_lexer": "ipython3",
   "version": "3.10.11"
  }
 },
 "nbformat": 4,
 "nbformat_minor": 2
}
