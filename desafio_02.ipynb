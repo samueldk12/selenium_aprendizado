{
 "cells": [
  {
   "cell_type": "code",
   "execution_count": 12,
   "metadata": {},
   "outputs": [],
   "source": [
    "from selenium import webdriver\n",
    "from selenium.webdriver.common.by import By\n",
    "from selenium.webdriver.support.ui import Select\n",
    "import json\n",
    "from selenium.webdriver.support.wait import WebDriverWait\n",
    "from selenium.webdriver.support import expected_conditions as EC\n",
    "from io import StringIO"
   ]
  },
  {
   "cell_type": "code",
   "execution_count": 2,
   "metadata": {},
   "outputs": [],
   "source": [
    "driver = webdriver.Chrome()"
   ]
  },
  {
   "cell_type": "code",
   "execution_count": 3,
   "metadata": {},
   "outputs": [],
   "source": [
    "driver.get('https://curso-web-scraping.pages.dev/#/desafio/2')"
   ]
  },
  {
   "cell_type": "code",
   "execution_count": 7,
   "metadata": {},
   "outputs": [
    {
     "data": {
      "text/plain": [
       "['Dalton', 'Ana', 'Maria', 'JoÃ£o', 'Leonardo', 'Talita', 'Rafael']"
      ]
     },
     "execution_count": 7,
     "metadata": {},
     "output_type": "execute_result"
    }
   ],
   "source": [
    "with open('desafio_2.json') as json_data:\n",
    "    dados_json = json.load(json_data)\n",
    "dados_json"
   ]
  },
  {
   "cell_type": "code",
   "execution_count": 51,
   "metadata": {},
   "outputs": [],
   "source": [
    "salvar_dados = []\n",
    "\n",
    "wait = WebDriverWait(driver, timeout=30, poll_frequency=1)\n",
    "\n",
    "for nome in dados_json:\n",
    "    search_field =  driver.find_element(By.XPATH, '/html/body/div/div/div[2]/main/div[2]/div/div[2]/input')\n",
    "    search_field.clear()\n",
    "    search_field.send_keys(nome)\n",
    "\n",
    "    wait.until(EC.element_to_be_clickable(mark=(By.XPATH, '/html/body/div/div/div[2]/main/div[2]/div/div[2]/button')))\n",
    "\n",
    "    search_button_field =  driver.find_element(By.XPATH, '/html/body/div/div/div[2]/main/div[2]/div/div[2]/button')\n",
    "    search_button_field.click()\n",
    "\n",
    "    wait.until(EC.presence_of_all_elements_located(locator=(By.TAG_NAME, 'h3')))\n",
    "\n",
    "    data_users = driver.find_elements(By.XPATH, '//*[@id=\"root\"]/div/div[2]/main/div[2]/div/section/div/div[2]/div')\n",
    "    \n",
    "    for data in data_users:\n",
    "        nome = data.find_element(By.CSS_SELECTOR,'div>h3').text\n",
    "        profissao = data.find_element(By.CSS_SELECTOR,'div>span').text\n",
    "        email = data.find_element(By.TAG_NAME,'ul').find_element(By.CSS_SELECTOR,'li:nth-child(1)').text.replace('E-mail: ','')\n",
    "        telefone = data.find_element(By.TAG_NAME,'ul').find_element(By.CSS_SELECTOR,'li:nth-child(2)').text.replace('Telefone: ','')\n",
    "        nome_usuario = data.find_element(By.TAG_NAME,'ul').find_element(By.CSS_SELECTOR,'li:nth-child(3)').text.replace('Usuário: ','')\n",
    "        estado = data.find_element(By.TAG_NAME,'ul').find_element(By.CSS_SELECTOR,'li:nth-child(4)').text.replace('Estado: ','')\n",
    "        link_imagem = data.find_element(By.TAG_NAME,'img').get_attribute('src')\n",
    "        salvar_dados.append({\n",
    "            'nome': nome,\n",
    "            'nome_usuario': nome_usuario,\n",
    "            'profissao': profissao,\n",
    "            'email': email,\n",
    "            'telefone': telefone,\n",
    "            'estado': estado,\n",
    "            'link_imagem': link_imagem\n",
    "        })\n",
    "\n",
    "\n"
   ]
  },
  {
   "cell_type": "code",
   "execution_count": null,
   "metadata": {},
   "outputs": [
    {
     "ename": "",
     "evalue": "",
     "output_type": "error",
     "traceback": [
      "\u001b[1;31mO Kernel deu pane ao executar o código na célula atual ou em uma célula anterior. \n",
      "\u001b[1;31mAnalise o código nas células para identificar uma possível causa da pane. \n",
      "\u001b[1;31mClique <a href='https://aka.ms/vscodeJupyterKernelCrash'>aqui</a> para obter mais informações. \n",
      "\u001b[1;31mConsulte Jupyter <a href='command:jupyter.viewOutput'>log</a> para obter mais detalhes."
     ]
    }
   ],
   "source": [
    "import pandas as pd\n",
    "df = pd.DataFrame(salvar_dados)\n",
    "df.to_csv('resultado_desafio_2.csv',index=False)"
   ]
  },
  {
   "cell_type": "code",
   "execution_count": null,
   "metadata": {},
   "outputs": [],
   "source": []
  }
 ],
 "metadata": {
  "kernelspec": {
   "display_name": "venv",
   "language": "python",
   "name": "python3"
  },
  "language_info": {
   "codemirror_mode": {
    "name": "ipython",
    "version": 3
   },
   "file_extension": ".py",
   "mimetype": "text/x-python",
   "name": "python",
   "nbconvert_exporter": "python",
   "pygments_lexer": "ipython3",
   "version": "3.10.11"
  }
 },
 "nbformat": 4,
 "nbformat_minor": 2
}
