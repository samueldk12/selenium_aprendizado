{
 "cells": [
  {
   "cell_type": "code",
   "execution_count": 6,
   "metadata": {},
   "outputs": [
    {
     "name": "stdout",
     "output_type": "stream",
     "text": [
      "Collecting pandas\n",
      "  Using cached pandas-2.2.3-cp310-cp310-win_amd64.whl.metadata (19 kB)\n",
      "Collecting numpy>=1.22.4 (from pandas)\n",
      "  Downloading numpy-2.2.3-cp310-cp310-win_amd64.whl.metadata (60 kB)\n",
      "Requirement already satisfied: python-dateutil>=2.8.2 in c:\\users\\samue\\estudos\\udemy\\selenium_aprendizado\\venv\\lib\\site-packages (from pandas) (2.9.0.post0)\n",
      "Collecting pytz>=2020.1 (from pandas)\n",
      "  Downloading pytz-2025.1-py2.py3-none-any.whl.metadata (22 kB)\n",
      "Collecting tzdata>=2022.7 (from pandas)\n",
      "  Downloading tzdata-2025.1-py2.py3-none-any.whl.metadata (1.4 kB)\n",
      "Requirement already satisfied: six>=1.5 in c:\\users\\samue\\estudos\\udemy\\selenium_aprendizado\\venv\\lib\\site-packages (from python-dateutil>=2.8.2->pandas) (1.17.0)\n",
      "Using cached pandas-2.2.3-cp310-cp310-win_amd64.whl (11.6 MB)\n",
      "Downloading numpy-2.2.3-cp310-cp310-win_amd64.whl (12.9 MB)\n",
      "   ---------------------------------------- 0.0/12.9 MB ? eta -:--:--\n",
      "   --- ------------------------------------ 1.0/12.9 MB 5.6 MB/s eta 0:00:03\n",
      "   ------------ --------------------------- 3.9/12.9 MB 10.2 MB/s eta 0:00:01\n",
      "   ----------------- ---------------------- 5.8/12.9 MB 9.8 MB/s eta 0:00:01\n",
      "   ------------------------- -------------- 8.1/12.9 MB 10.3 MB/s eta 0:00:01\n",
      "   -------------------------------- ------- 10.5/12.9 MB 10.2 MB/s eta 0:00:01\n",
      "   ---------------------------------------- 12.9/12.9 MB 10.5 MB/s eta 0:00:00\n",
      "Downloading pytz-2025.1-py2.py3-none-any.whl (507 kB)\n",
      "Downloading tzdata-2025.1-py2.py3-none-any.whl (346 kB)\n",
      "Installing collected packages: pytz, tzdata, numpy, pandas\n",
      "Successfully installed numpy-2.2.3 pandas-2.2.3 pytz-2025.1 tzdata-2025.1\n"
     ]
    }
   ],
   "source": [
    "!pip install pandas"
   ]
  },
  {
   "cell_type": "code",
   "execution_count": 12,
   "metadata": {},
   "outputs": [],
   "source": [
    "from selenium import webdriver\n",
    "from selenium.webdriver.common.by import By\n",
    "from selenium.webdriver.support.ui import Select\n",
    "import json\n",
    "from selenium.webdriver.support.wait import WebDriverWait\n",
    "from selenium.webdriver.support import expected_conditions as EC\n",
    "from io import StringIO"
   ]
  },
  {
   "cell_type": "code",
   "execution_count": 2,
   "metadata": {},
   "outputs": [],
   "source": [
    "driver = webdriver.Chrome()"
   ]
  },
  {
   "cell_type": "code",
   "execution_count": 3,
   "metadata": {},
   "outputs": [],
   "source": [
    "driver.get('https://curso-web-scraping.pages.dev/#/desafio/2')"
   ]
  },
  {
   "cell_type": "code",
   "execution_count": 7,
   "metadata": {},
   "outputs": [
    {
     "data": {
      "text/plain": [
       "['Dalton', 'Ana', 'Maria', 'JoÃ£o', 'Leonardo', 'Talita', 'Rafael']"
      ]
     },
     "execution_count": 7,
     "metadata": {},
     "output_type": "execute_result"
    }
   ],
   "source": [
    "with open('desafio_2.json') as json_data:\n",
    "    dados_json = json.load(json_data)\n",
    "dados_json"
   ]
  },
  {
   "cell_type": "code",
   "execution_count": 51,
   "metadata": {},
   "outputs": [],
   "source": [
    "salvar_dados = []\n",
    "\n",
    "wait = WebDriverWait(driver, timeout=30, poll_frequency=1)\n",
    "\n",
    "for nome in dados_json:\n",
    "    search_field =  driver.find_element(By.XPATH, '/html/body/div/div/div[2]/main/div[2]/div/div[2]/input')\n",
    "    search_field.clear()\n",
    "    search_field.send_keys(nome)\n",
    "\n",
    "    wait.until(EC.element_to_be_clickable(mark=(By.XPATH, '/html/body/div/div/div[2]/main/div[2]/div/div[2]/button')))\n",
    "\n",
    "    search_button_field =  driver.find_element(By.XPATH, '/html/body/div/div/div[2]/main/div[2]/div/div[2]/button')\n",
    "    search_button_field.click()\n",
    "\n",
    "    wait.until(EC.presence_of_all_elements_located(locator=(By.TAG_NAME, 'h3')))\n",
    "\n",
    "    data_users = driver.find_elements(By.XPATH, '//*[@id=\"root\"]/div/div[2]/main/div[2]/div/section/div/div[2]/div')\n",
    "    \n",
    "    for data in data_users:\n",
    "        nome = data.find_element(By.CSS_SELECTOR,'div>h3').text\n",
    "        profissao = data.find_element(By.CSS_SELECTOR,'div>span').text\n",
    "        email = data.find_element(By.TAG_NAME,'ul').find_element(By.CSS_SELECTOR,'li:nth-child(1)').text.replace('E-mail: ','')\n",
    "        telefone = data.find_element(By.TAG_NAME,'ul').find_element(By.CSS_SELECTOR,'li:nth-child(2)').text.replace('Telefone: ','')\n",
    "        nome_usuario = data.find_element(By.TAG_NAME,'ul').find_element(By.CSS_SELECTOR,'li:nth-child(3)').text.replace('Usuário: ','')\n",
    "        estado = data.find_element(By.TAG_NAME,'ul').find_element(By.CSS_SELECTOR,'li:nth-child(4)').text.replace('Estado: ','')\n",
    "        link_imagem = data.find_element(By.TAG_NAME,'img').get_attribute('src')\n",
    "        salvar_dados.append({\n",
    "            'nome': nome,\n",
    "            'nome_usuario': nome_usuario,\n",
    "            'profissao': profissao,\n",
    "            'email': email,\n",
    "            'telefone': telefone,\n",
    "            'estado': estado,\n",
    "            'link_imagem': link_imagem\n",
    "        })\n",
    "\n",
    "\n"
   ]
  },
  {
   "cell_type": "code",
   "execution_count": null,
   "metadata": {},
   "outputs": [
    {
     "ename": "",
     "evalue": "",
     "output_type": "error",
     "traceback": [
      "\u001b[1;31mO Kernel deu pane ao executar o código na célula atual ou em uma célula anterior. \n",
      "\u001b[1;31mAnalise o código nas células para identificar uma possível causa da pane. \n",
      "\u001b[1;31mClique <a href='https://aka.ms/vscodeJupyterKernelCrash'>aqui</a> para obter mais informações. \n",
      "\u001b[1;31mConsulte Jupyter <a href='command:jupyter.viewOutput'>log</a> para obter mais detalhes."
     ]
    }
   ],
   "source": [
    "import pandas as pd\n",
    "df = pd.DataFrame(salvar_dados)\n",
    "df.to_csv('resultado_desafio_2.csv',index=False)"
   ]
  },
  {
   "cell_type": "code",
   "execution_count": null,
   "metadata": {},
   "outputs": [],
   "source": []
  }
 ],
 "metadata": {
  "kernelspec": {
   "display_name": "venv",
   "language": "python",
   "name": "python3"
  },
  "language_info": {
   "codemirror_mode": {
    "name": "ipython",
    "version": 3
   },
   "file_extension": ".py",
   "mimetype": "text/x-python",
   "name": "python",
   "nbconvert_exporter": "python",
   "pygments_lexer": "ipython3",
   "version": "3.10.11"
  }
 },
 "nbformat": 4,
 "nbformat_minor": 2
}
