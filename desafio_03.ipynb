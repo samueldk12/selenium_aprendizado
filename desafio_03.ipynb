{
 "cells": [
  {
   "cell_type": "code",
   "execution_count": 34,
   "metadata": {},
   "outputs": [],
   "source": [
    "from selenium import webdriver\n",
    "from selenium.webdriver.common.by import By\n",
    "from selenium.webdriver.support.ui import Select\n",
    "import json\n",
    "from selenium.webdriver.support.wait import WebDriverWait\n",
    "from selenium.webdriver.support import expected_conditions as EC\n",
    "from io import StringIO\n",
    "from dataclasses import dataclass"
   ]
  },
  {
   "cell_type": "code",
   "execution_count": 35,
   "metadata": {},
   "outputs": [],
   "source": [
    "driver = webdriver.Chrome()"
   ]
  },
  {
   "cell_type": "code",
   "execution_count": 36,
   "metadata": {},
   "outputs": [],
   "source": [
    "driver.switch_to.new_window('tab')"
   ]
  },
  {
   "cell_type": "code",
   "execution_count": 37,
   "metadata": {},
   "outputs": [],
   "source": [
    "tabs = {\n",
    " 'desafio_02': driver.window_handles[0],\n",
    " 'desafio_03': driver.window_handles[1],\n",
    "}"
   ]
  },
  {
   "cell_type": "code",
   "execution_count": 38,
   "metadata": {},
   "outputs": [],
   "source": [
    "driver.switch_to.window(tabs['desafio_02'])\n",
    "driver.get('https://curso-web-scraping.pages.dev/#/desafio/2')"
   ]
  },
  {
   "cell_type": "code",
   "execution_count": 39,
   "metadata": {},
   "outputs": [],
   "source": [
    "driver.switch_to.window(tabs['desafio_03'])\n",
    "driver.get('https://curso-web-scraping.pages.dev/#/desafio/3')"
   ]
  },
  {
   "cell_type": "code",
   "execution_count": 42,
   "metadata": {},
   "outputs": [],
   "source": [
    "\n",
    "\n",
    "wait = WebDriverWait(driver, timeout=30, poll_frequency=1)\n",
    "\n",
    "@dataclass\n",
    "class User:\n",
    "    nome: str\n",
    "    profissao: str\n",
    "    email: str\n",
    "    telefone: str\n",
    "    nome_usuario: str\n",
    "    estado: str\n",
    "    link_imagem: str\n",
    "\n",
    "def get_current_name():\n",
    "    try:\n",
    "        driver.switch_to.window(tabs['desafio_03'])\n",
    "        return driver.find_element(By.CSS_SELECTOR, '#usuario').text \n",
    "    except:\n",
    "        return False\n",
    "\n",
    "def cadastrar_usuarios(dados_usuarios: list[User]):\n",
    "    driver.switch_to.window(tabs['desafio_03'])\n",
    "    for dado_usuario in dados_usuarios:\n",
    "        input_nome = driver.find_element(By.NAME,\"nome\")\n",
    "        input_nome.clear()\n",
    "        input_nome.send_keys(dado_usuario.nome)\n",
    "        input_profissao = driver.find_element(By.NAME,\"profissao\")\n",
    "        input_profissao.clear()\n",
    "        input_profissao.send_keys(dado_usuario.profissao)\n",
    "        input_email = driver.find_element(By.NAME,\"email\")\n",
    "        input_email.clear()\n",
    "        input_email.send_keys(dado_usuario.email)\n",
    "        input_telefone = driver.find_element(By.NAME,\"telefone\")\n",
    "        input_telefone.clear()\n",
    "        input_telefone.send_keys(dado_usuario.telefone)\n",
    "        input_usuario = driver.find_element(By.NAME,\"usuario\")\n",
    "        input_usuario.clear()\n",
    "        input_usuario.send_keys(dado_usuario.nome_usuario)\n",
    "        input_estado = Select(driver.find_element(By.NAME,\"estado\"))\n",
    "        input_estado.select_by_visible_text(dado_usuario.estado)\n",
    "        input_nome.submit()\n",
    "\n",
    "\n",
    "\n",
    "while get_current_name():\n",
    "    name = get_current_name()\n",
    "\n",
    "    driver.switch_to.window(tabs['desafio_02'])\n",
    "    search_field =  driver.find_element(By.XPATH, '/html/body/div/div/div[2]/main/div[2]/div/div[2]/input')\n",
    "    search_field.clear()\n",
    "    search_field.send_keys(name)\n",
    "\n",
    "    wait.until(EC.element_to_be_clickable(mark=(By.XPATH, '/html/body/div/div/div[2]/main/div[2]/div/div[2]/button')))\n",
    "\n",
    "    search_button_field =  driver.find_element(By.XPATH, '/html/body/div/div/div[2]/main/div[2]/div/div[2]/button')\n",
    "    search_button_field.click()\n",
    "\n",
    "    wait.until(EC.presence_of_all_elements_located(locator=(By.TAG_NAME, 'h3')))\n",
    "\n",
    "    data_users = driver.find_elements(By.XPATH, '//*[@id=\"root\"]/div/div[2]/main/div[2]/div/section/div/div[2]/div')\n",
    "    dados_usuarios = []\n",
    "    for data in data_users:\n",
    "        nome = data.find_element(By.CSS_SELECTOR,'div>h3').text\n",
    "        profissao = data.find_element(By.CSS_SELECTOR,'div>span').text\n",
    "        email = data.find_element(By.TAG_NAME,'ul').find_element(By.CSS_SELECTOR,'li:nth-child(1)').text.replace('E-mail: ','')\n",
    "        telefone = data.find_element(By.TAG_NAME,'ul').find_element(By.CSS_SELECTOR,'li:nth-child(2)').text.replace('Telefone: ','')\n",
    "        nome_usuario = data.find_element(By.TAG_NAME,'ul').find_element(By.CSS_SELECTOR,'li:nth-child(3)').text.replace('Usuário: ','')\n",
    "        estado = data.find_element(By.TAG_NAME,'ul').find_element(By.CSS_SELECTOR,'li:nth-child(4)').text.replace('Estado: ','')\n",
    "        link_imagem = data.find_element(By.TAG_NAME,'img').get_attribute('src')\n",
    "\n",
    "        dados_usuarios.append(\n",
    "            User(\n",
    "                nome,\n",
    "                profissao,\n",
    "                email,\n",
    "                telefone,\n",
    "                nome_usuario,\n",
    "                estado,\n",
    "                link_imagem\n",
    "            )\n",
    "        )\n",
    "    cadastrar_usuarios(dados_usuarios)"
   ]
  },
  {
   "cell_type": "code",
   "execution_count": null,
   "metadata": {},
   "outputs": [],
   "source": []
  }
 ],
 "metadata": {
  "kernelspec": {
   "display_name": "venv",
   "language": "python",
   "name": "python3"
  },
  "language_info": {
   "codemirror_mode": {
    "name": "ipython",
    "version": 3
   },
   "file_extension": ".py",
   "mimetype": "text/x-python",
   "name": "python",
   "nbconvert_exporter": "python",
   "pygments_lexer": "ipython3",
   "version": "3.10.11"
  }
 },
 "nbformat": 4,
 "nbformat_minor": 2
}
